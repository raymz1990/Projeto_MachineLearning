{
 "cells": [
  {
   "cell_type": "markdown",
   "id": "a5a53a59",
   "metadata": {},
   "source": [
    "<p> <img src=\"https://servicos.nc.ufpr.br/PortalNC/painel/assets/img/logos/logo_ufpr.jpg\" width=\"250\" height=\"250\" align=\"right\">\n",
    "UNIVERSIDADE FEDERAL DO PARANÁ <br>\n",
    "CE329 - APRENDIZAGEM DE MAQUINA <br>\n",
    "Profº: Eduardo Vargas Ferreira <br>\n",
    "Alunos:  GRR20233876 – Leonardo Gonçalves Fischer <br>\n",
    "&nbsp;&nbsp;&nbsp;&nbsp;&nbsp;&nbsp;&nbsp;&nbsp;&nbsp;&nbsp;&nbsp;&nbsp;&nbsp;GRR20233881 – Raymundo Eduardo Pilz <br>\n",
    "</p>"
   ]
  },
  {
   "cell_type": "markdown",
   "id": "fe7ae91c",
   "metadata": {},
   "source": [
    "# ANÁLISE DE CHURN EM UMA INSTITUIÇÃO FINANCEIRA\n",
    "\n",
    "## PROBLEMÁTICA:\n",
    "O problema a ser abordado neste trabalho é a taxa de churn em uma instituição financeira. A taxa \n",
    "de churn, que se refere à perda de clientes ao longo do tempo, é uma métrica crítica para empresas \n",
    "de serviços financeiros, pois afeta diretamente a receita e a satisfação do cliente. O objetivo deste \n",
    "estudo é analisar e compreender os fatores que podem estar contribuindo para o churn de clientes \n",
    "e identificar estratégias para reduzi-lo.\n",
    "### DESCRIÇÃO DO PROBLEMA:\n",
    "Conhecer a taxa de churn de qualquer instituição é importante visto que para a empresa custa muito \n",
    "mais captar um novo cliente do que manter um que já possui.\n",
    "Compreender esses fatores é fundamental para tomar decisões informadas que permite a \n",
    "companhia desenvolver programas de leadade e implementar estratégias que aumentem a retenção \n",
    "de clientes.\n",
    "## OBJETIVOS:\n",
    "* Análise exploratória e descritiva dos principais indicadores e características dos clientes, tais \n",
    "como:\n",
    "    * Pontuação de crédito;\n",
    "    * Localização;\n",
    "    * Gênero;\n",
    "    * Idade;\n",
    "    * Tempo de permanência;\n",
    "    * Saldo da conta;\n",
    "    * Número de produtos;\n",
    "    * Uso de cartão de crédito\n",
    "    * Atividade de conta;\n",
    "    * Salário estimado;\n",
    "    * Churn;\n",
    "    * Reclamações realizadas pelo cliente;\n",
    "    * Índice de satisfação do cliente;\n",
    "    * Tipo de cartão;\n",
    "    * Pontos Acumulados.\n",
    "* Identificação e correção de possíveis inconsistências nos dados fornecidos;\n",
    "* Identificar quais dessas características têm maior correlação com o churn de clientes;\n",
    "* Modelos de predições dos dados para explorar padrões e tendências nos dados relacionados \n",
    "ao churn;\n",
    "* Comparações com modelos com todos os resultados gerados;\n",
    "* Propor recomendações estratégicas com base nos insights obtidos para reduzir a taxa de churn."
   ]
  },
  {
   "cell_type": "markdown",
   "id": "a0039606",
   "metadata": {},
   "source": [
    "## dataset disponivel em: \n",
    "https://www.kaggle.com/datasets/radheshyamkollipara/bank-customer-churn"
   ]
  },
  {
   "cell_type": "markdown",
   "id": "11339e9d",
   "metadata": {},
   "source": [
    "# 1. Importando biblioteca e tratamento dos dados do dataset\n",
    "\n",
    "Nesta seção, serão organizado todas as bibliotecas que serão utilizadas no projeto. O objetivo é manter estruturado as biblioteca armazenadas nesta seção para sua melhor visualização."
   ]
  },
  {
   "cell_type": "code",
   "execution_count": 1,
   "id": "bf4510f3",
   "metadata": {},
   "outputs": [],
   "source": [
    "# Carregando as bibliotecas\n",
    "import pandas as pd\n",
    "import numpy as np\n",
    "import seaborn as sns\n",
    "import matplotlib.pyplot as plt\n",
    "%matplotlib inline\n",
    "sns.set(color_codes=True)\n",
    "import warnings\n",
    "warnings.filterwarnings('ignore')"
   ]
  },
  {
   "cell_type": "markdown",
   "id": "a205fb58",
   "metadata": {},
   "source": [
    "# 2. ELT (Extração, Limpeza e Transformação de Dados)\n",
    "\n",
    "Inicialmente será carregado o conjunto de dados extraído do Kaggle, prepará-lo e transformá-lo para que os dados se tornem informações valiosas e possam ser usados efetivamente em nossa análise."
   ]
  },
  {
   "cell_type": "markdown",
   "id": "84c6c92a",
   "metadata": {},
   "source": [
    "## 2.1 Carregamento dos Dados\n",
    "\n",
    "Primeiramente, realizaremos o carregamento do conjunto de dados e uma visualização inicial dos dados carregados."
   ]
  },
  {
   "cell_type": "code",
   "execution_count": 12,
   "id": "7331ce67",
   "metadata": {},
   "outputs": [
    {
     "data": {
      "text/html": [
       "<div>\n",
       "<style scoped>\n",
       "    .dataframe tbody tr th:only-of-type {\n",
       "        vertical-align: middle;\n",
       "    }\n",
       "\n",
       "    .dataframe tbody tr th {\n",
       "        vertical-align: top;\n",
       "    }\n",
       "\n",
       "    .dataframe thead th {\n",
       "        text-align: right;\n",
       "    }\n",
       "</style>\n",
       "<table border=\"1\" class=\"dataframe\">\n",
       "  <thead>\n",
       "    <tr style=\"text-align: right;\">\n",
       "      <th></th>\n",
       "      <th>RowNumber</th>\n",
       "      <th>CustomerId</th>\n",
       "      <th>Surname</th>\n",
       "      <th>CreditScore</th>\n",
       "      <th>Geography</th>\n",
       "      <th>Gender</th>\n",
       "      <th>Age</th>\n",
       "      <th>Tenure</th>\n",
       "      <th>Balance</th>\n",
       "      <th>NumOfProducts</th>\n",
       "      <th>HasCrCard</th>\n",
       "      <th>IsActiveMember</th>\n",
       "      <th>EstimatedSalary</th>\n",
       "      <th>Exited</th>\n",
       "      <th>Complain</th>\n",
       "      <th>Satisfaction Score</th>\n",
       "      <th>Card Type</th>\n",
       "      <th>Point Earned</th>\n",
       "    </tr>\n",
       "  </thead>\n",
       "  <tbody>\n",
       "    <tr>\n",
       "      <th>0</th>\n",
       "      <td>1</td>\n",
       "      <td>15634602</td>\n",
       "      <td>Hargrave</td>\n",
       "      <td>619</td>\n",
       "      <td>France</td>\n",
       "      <td>Female</td>\n",
       "      <td>42</td>\n",
       "      <td>2</td>\n",
       "      <td>0.00</td>\n",
       "      <td>1</td>\n",
       "      <td>1</td>\n",
       "      <td>1</td>\n",
       "      <td>101348.88</td>\n",
       "      <td>1</td>\n",
       "      <td>1</td>\n",
       "      <td>2</td>\n",
       "      <td>DIAMOND</td>\n",
       "      <td>464</td>\n",
       "    </tr>\n",
       "    <tr>\n",
       "      <th>1</th>\n",
       "      <td>2</td>\n",
       "      <td>15647311</td>\n",
       "      <td>Hill</td>\n",
       "      <td>608</td>\n",
       "      <td>Spain</td>\n",
       "      <td>Female</td>\n",
       "      <td>41</td>\n",
       "      <td>1</td>\n",
       "      <td>83807.86</td>\n",
       "      <td>1</td>\n",
       "      <td>0</td>\n",
       "      <td>1</td>\n",
       "      <td>112542.58</td>\n",
       "      <td>0</td>\n",
       "      <td>1</td>\n",
       "      <td>3</td>\n",
       "      <td>DIAMOND</td>\n",
       "      <td>456</td>\n",
       "    </tr>\n",
       "    <tr>\n",
       "      <th>2</th>\n",
       "      <td>3</td>\n",
       "      <td>15619304</td>\n",
       "      <td>Onio</td>\n",
       "      <td>502</td>\n",
       "      <td>France</td>\n",
       "      <td>Female</td>\n",
       "      <td>42</td>\n",
       "      <td>8</td>\n",
       "      <td>159660.80</td>\n",
       "      <td>3</td>\n",
       "      <td>1</td>\n",
       "      <td>0</td>\n",
       "      <td>113931.57</td>\n",
       "      <td>1</td>\n",
       "      <td>1</td>\n",
       "      <td>3</td>\n",
       "      <td>DIAMOND</td>\n",
       "      <td>377</td>\n",
       "    </tr>\n",
       "    <tr>\n",
       "      <th>3</th>\n",
       "      <td>4</td>\n",
       "      <td>15701354</td>\n",
       "      <td>Boni</td>\n",
       "      <td>699</td>\n",
       "      <td>France</td>\n",
       "      <td>Female</td>\n",
       "      <td>39</td>\n",
       "      <td>1</td>\n",
       "      <td>0.00</td>\n",
       "      <td>2</td>\n",
       "      <td>0</td>\n",
       "      <td>0</td>\n",
       "      <td>93826.63</td>\n",
       "      <td>0</td>\n",
       "      <td>0</td>\n",
       "      <td>5</td>\n",
       "      <td>GOLD</td>\n",
       "      <td>350</td>\n",
       "    </tr>\n",
       "    <tr>\n",
       "      <th>4</th>\n",
       "      <td>5</td>\n",
       "      <td>15737888</td>\n",
       "      <td>Mitchell</td>\n",
       "      <td>850</td>\n",
       "      <td>Spain</td>\n",
       "      <td>Female</td>\n",
       "      <td>43</td>\n",
       "      <td>2</td>\n",
       "      <td>125510.82</td>\n",
       "      <td>1</td>\n",
       "      <td>1</td>\n",
       "      <td>1</td>\n",
       "      <td>79084.10</td>\n",
       "      <td>0</td>\n",
       "      <td>0</td>\n",
       "      <td>5</td>\n",
       "      <td>GOLD</td>\n",
       "      <td>425</td>\n",
       "    </tr>\n",
       "  </tbody>\n",
       "</table>\n",
       "</div>"
      ],
      "text/plain": [
       "   RowNumber  CustomerId   Surname  CreditScore Geography  Gender  Age  \\\n",
       "0          1    15634602  Hargrave          619    France  Female   42   \n",
       "1          2    15647311      Hill          608     Spain  Female   41   \n",
       "2          3    15619304      Onio          502    France  Female   42   \n",
       "3          4    15701354      Boni          699    France  Female   39   \n",
       "4          5    15737888  Mitchell          850     Spain  Female   43   \n",
       "\n",
       "   Tenure    Balance  NumOfProducts  HasCrCard  IsActiveMember  \\\n",
       "0       2       0.00              1          1               1   \n",
       "1       1   83807.86              1          0               1   \n",
       "2       8  159660.80              3          1               0   \n",
       "3       1       0.00              2          0               0   \n",
       "4       2  125510.82              1          1               1   \n",
       "\n",
       "   EstimatedSalary  Exited  Complain  Satisfaction Score Card Type  \\\n",
       "0        101348.88       1         1                   2   DIAMOND   \n",
       "1        112542.58       0         1                   3   DIAMOND   \n",
       "2        113931.57       1         1                   3   DIAMOND   \n",
       "3         93826.63       0         0                   5      GOLD   \n",
       "4         79084.10       0         0                   5      GOLD   \n",
       "\n",
       "   Point Earned  \n",
       "0           464  \n",
       "1           456  \n",
       "2           377  \n",
       "3           350  \n",
       "4           425  "
      ]
     },
     "execution_count": 12,
     "metadata": {},
     "output_type": "execute_result"
    }
   ],
   "source": [
    "## Carregando os dados\n",
    "\n",
    "data = pd.read_csv('dataset\\\\Customer-Churn-Records.csv')\n",
    "data.head()"
   ]
  },
  {
   "cell_type": "code",
   "execution_count": 3,
   "id": "e6ab964d",
   "metadata": {},
   "outputs": [
    {
     "name": "stdout",
     "output_type": "stream",
     "text": [
      "O conjunto de dados possui 10000 linhas e 18 colunas.\n"
     ]
    }
   ],
   "source": [
    "# Verificando o volume de dados do dataset\n",
    "shape = data.shape\n",
    "print(\"O conjunto de dados possui {} linhas e {} colunas.\".format(shape[0], shape[1]))"
   ]
  },
  {
   "cell_type": "markdown",
   "id": "3f006f20",
   "metadata": {},
   "source": [
    "## 2.2 Verificação de Dados Faltantes\n",
    "\n",
    "Agora, realizaremos a verificação das colunas que contêm dados faltantes em nosso conjunto de dados. A identificação de variáveis com valores ausentes é fundamental, pois isso pode impactar nossa análise e determinar a necessidade de tratamento dos dados."
   ]
  },
  {
   "cell_type": "code",
   "execution_count": 13,
   "id": "10043bfe",
   "metadata": {},
   "outputs": [
    {
     "name": "stdout",
     "output_type": "stream",
     "text": [
      "Nenhuma coluna possui dados ausentes.\n"
     ]
    }
   ],
   "source": [
    "# Verificando colunas com dados faltantes\n",
    "data_na = data.isnull().sum()\n",
    "cols_na = data_na[data_na > 0]\n",
    "\n",
    "if cols_na.empty:\n",
    "    print(\"Nenhuma coluna possui dados ausentes.\")\n",
    "else:\n",
    "    print(f\"{len(cols_na)} coluna(s) possui(em) dados ausentes.\")\n",
    "    print(\"Colunas com dados ausentes:\")\n",
    "    for col, missing_count in cols_na.items():\n",
    "        print(f\"{col}: {missing_count} valor(es) ausente(s)\")\n"
   ]
  },
  {
   "cell_type": "code",
   "execution_count": 14,
   "id": "3849004b",
   "metadata": {},
   "outputs": [
    {
     "data": {
      "image/png": "[encoded data removed]",
      "text/plain": [
       "<Figure size 1152x360 with 1 Axes>"
      ]
     },
     "metadata": {},
     "output_type": "display_data"
    }
   ],
   "source": [
    "# Representação gráfica\n",
    "# Verificando colunas com dados faltantes\n",
    "data_na = pd.DataFrame((data.isnull().sum() * 100 / data.shape[0])).reset_index()\n",
    "\n",
    "# Gráfico\n",
    "plt.figure (figsize = (16,5))\n",
    "ax = sns.pointplot('index', 0, data = data_na)\n",
    "plt.xticks(rotation = 90,fontsize = 7)\n",
    "plt.title(\"Porcentagem de dados faltantes\")\n",
    "plt.ylabel(\"Porcentagem\")\n",
    "plt.show()"
   ]
  },
  {
   "cell_type": "markdown",
   "id": "63d59457",
   "metadata": {},
   "source": [
    "## 2.3 Verificação e Exclusão de Dados Duplicadas\n",
    "Nesta etapa, realizaremos a verificação de dados duplicados. Embora seja improvável que tenhamos dados duplicados neste conjunto de dados, é uma etapa importante para garantir a integridade de nossa análise. Vamos verificar e, se necessário, remover qualquer entrada duplicada.\n",
    "\n",
    "Para evitar interferências na detecção de dados duplicados, também excluiremos a coluna \"RowNumber\" de nosso conjunto de dados, pois esta coluna parece ser uma numeração automática das linhas."
   ]
  },
  {
   "cell_type": "code",
   "execution_count": 17,
   "id": "4deee2c1",
   "metadata": {},
   "outputs": [
    {
     "ename": "NameError",
     "evalue": "name 'duplicated_rows_data' is not defined",
     "output_type": "error",
     "traceback": [
      "\u001b[1;31m---------------------------------------------------------------------------\u001b[0m",
      "\u001b[1;31mNameError\u001b[0m                                 Traceback (most recent call last)",
      "Input \u001b[1;32mIn [17]\u001b[0m, in \u001b[0;36m<cell line: 7>\u001b[1;34m()\u001b[0m\n\u001b[0;32m      1\u001b[0m \u001b[38;5;66;03m# Eliminando a coluna RowNumber\u001b[39;00m\n\u001b[0;32m      2\u001b[0m \u001b[38;5;66;03m#data = data.drop(['RowNumber'], axis=1)\u001b[39;00m\n\u001b[0;32m      3\u001b[0m \n\u001b[0;32m      4\u001b[0m \u001b[38;5;66;03m# Verificando linhas duplicadas\u001b[39;00m\n\u001b[0;32m      5\u001b[0m duplicate_rows_data \u001b[38;5;241m=\u001b[39m data[data\u001b[38;5;241m.\u001b[39mduplicated()]\n\u001b[1;32m----> 7\u001b[0m \u001b[38;5;28;01mif\u001b[39;00m \u001b[43mduplicated_rows_data\u001b[49m\u001b[38;5;241m.\u001b[39mempty:\n\u001b[0;32m      8\u001b[0m     \u001b[38;5;28mprint\u001b[39m(\u001b[38;5;124m\"\u001b[39m\u001b[38;5;124mNenhum dado duplicado foi encontrado no conjunto de dados.\u001b[39m\u001b[38;5;124m\"\u001b[39m)\n\u001b[0;32m      9\u001b[0m \u001b[38;5;28;01melse\u001b[39;00m:\n",
      "\u001b[1;31mNameError\u001b[0m: name 'duplicated_rows_data' is not defined"
     ]
    }
   ],
   "source": [
    "# Eliminando a coluna RowNumber\n",
    "data = data.drop(['RowNumber'], axis=1)"
   ]
  },
  {
   "cell_type": "code",
   "execution_count": 19,
   "id": "9becd27b",
   "metadata": {},
   "outputs": [
    {
     "name": "stdout",
     "output_type": "stream",
     "text": [
      "Nenhum dado duplicado foi encontrado no conjunto de dados.\n"
     ]
    }
   ],
   "source": [
    "# Verificando linhas duplicadas\n",
    "rows_data = data[data.duplicated()]\n",
    "\n",
    "if rows_data.empty:\n",
    "    print(\"Nenhum dado duplicado foi encontrado no conjunto de dados.\")\n",
    "else:\n",
    "    print(f\"Foram encontradas {len(rows_data)} entradas duplicadas.\")   \n",
    "        "
   ]
  },
  {
   "cell_type": "code",
   "execution_count": 20,
   "id": "3ca631dd",
   "metadata": {},
   "outputs": [
    {
     "data": {
      "text/html": [
       "<div>\n",
       "<style scoped>\n",
       "    .dataframe tbody tr th:only-of-type {\n",
       "        vertical-align: middle;\n",
       "    }\n",
       "\n",
       "    .dataframe tbody tr th {\n",
       "        vertical-align: top;\n",
       "    }\n",
       "\n",
       "    .dataframe thead th {\n",
       "        text-align: right;\n",
       "    }\n",
       "</style>\n",
       "<table border=\"1\" class=\"dataframe\">\n",
       "  <thead>\n",
       "    <tr style=\"text-align: right;\">\n",
       "      <th></th>\n",
       "      <th>CustomerId</th>\n",
       "      <th>Surname</th>\n",
       "      <th>CreditScore</th>\n",
       "      <th>Geography</th>\n",
       "      <th>Gender</th>\n",
       "      <th>Age</th>\n",
       "      <th>Tenure</th>\n",
       "      <th>Balance</th>\n",
       "      <th>NumOfProducts</th>\n",
       "      <th>HasCrCard</th>\n",
       "      <th>IsActiveMember</th>\n",
       "      <th>EstimatedSalary</th>\n",
       "      <th>Exited</th>\n",
       "      <th>Complain</th>\n",
       "      <th>Satisfaction Score</th>\n",
       "      <th>Card Type</th>\n",
       "      <th>Point Earned</th>\n",
       "    </tr>\n",
       "  </thead>\n",
       "  <tbody>\n",
       "    <tr>\n",
       "      <th>0</th>\n",
       "      <td>15634602</td>\n",
       "      <td>Hargrave</td>\n",
       "      <td>619</td>\n",
       "      <td>France</td>\n",
       "      <td>Female</td>\n",
       "      <td>42</td>\n",
       "      <td>2</td>\n",
       "      <td>0.00</td>\n",
       "      <td>1</td>\n",
       "      <td>1</td>\n",
       "      <td>1</td>\n",
       "      <td>101348.88</td>\n",
       "      <td>1</td>\n",
       "      <td>1</td>\n",
       "      <td>2</td>\n",
       "      <td>DIAMOND</td>\n",
       "      <td>464</td>\n",
       "    </tr>\n",
       "    <tr>\n",
       "      <th>1</th>\n",
       "      <td>15647311</td>\n",
       "      <td>Hill</td>\n",
       "      <td>608</td>\n",
       "      <td>Spain</td>\n",
       "      <td>Female</td>\n",
       "      <td>41</td>\n",
       "      <td>1</td>\n",
       "      <td>83807.86</td>\n",
       "      <td>1</td>\n",
       "      <td>0</td>\n",
       "      <td>1</td>\n",
       "      <td>112542.58</td>\n",
       "      <td>0</td>\n",
       "      <td>1</td>\n",
       "      <td>3</td>\n",
       "      <td>DIAMOND</td>\n",
       "      <td>456</td>\n",
       "    </tr>\n",
       "    <tr>\n",
       "      <th>2</th>\n",
       "      <td>15619304</td>\n",
       "      <td>Onio</td>\n",
       "      <td>502</td>\n",
       "      <td>France</td>\n",
       "      <td>Female</td>\n",
       "      <td>42</td>\n",
       "      <td>8</td>\n",
       "      <td>159660.80</td>\n",
       "      <td>3</td>\n",
       "      <td>1</td>\n",
       "      <td>0</td>\n",
       "      <td>113931.57</td>\n",
       "      <td>1</td>\n",
       "      <td>1</td>\n",
       "      <td>3</td>\n",
       "      <td>DIAMOND</td>\n",
       "      <td>377</td>\n",
       "    </tr>\n",
       "    <tr>\n",
       "      <th>3</th>\n",
       "      <td>15701354</td>\n",
       "      <td>Boni</td>\n",
       "      <td>699</td>\n",
       "      <td>France</td>\n",
       "      <td>Female</td>\n",
       "      <td>39</td>\n",
       "      <td>1</td>\n",
       "      <td>0.00</td>\n",
       "      <td>2</td>\n",
       "      <td>0</td>\n",
       "      <td>0</td>\n",
       "      <td>93826.63</td>\n",
       "      <td>0</td>\n",
       "      <td>0</td>\n",
       "      <td>5</td>\n",
       "      <td>GOLD</td>\n",
       "      <td>350</td>\n",
       "    </tr>\n",
       "    <tr>\n",
       "      <th>4</th>\n",
       "      <td>15737888</td>\n",
       "      <td>Mitchell</td>\n",
       "      <td>850</td>\n",
       "      <td>Spain</td>\n",
       "      <td>Female</td>\n",
       "      <td>43</td>\n",
       "      <td>2</td>\n",
       "      <td>125510.82</td>\n",
       "      <td>1</td>\n",
       "      <td>1</td>\n",
       "      <td>1</td>\n",
       "      <td>79084.10</td>\n",
       "      <td>0</td>\n",
       "      <td>0</td>\n",
       "      <td>5</td>\n",
       "      <td>GOLD</td>\n",
       "      <td>425</td>\n",
       "    </tr>\n",
       "  </tbody>\n",
       "</table>\n",
       "</div>"
      ],
      "text/plain": [
       "   CustomerId   Surname  CreditScore Geography  Gender  Age  Tenure  \\\n",
       "0    15634602  Hargrave          619    France  Female   42       2   \n",
       "1    15647311      Hill          608     Spain  Female   41       1   \n",
       "2    15619304      Onio          502    France  Female   42       8   \n",
       "3    15701354      Boni          699    France  Female   39       1   \n",
       "4    15737888  Mitchell          850     Spain  Female   43       2   \n",
       "\n",
       "     Balance  NumOfProducts  HasCrCard  IsActiveMember  EstimatedSalary  \\\n",
       "0       0.00              1          1               1        101348.88   \n",
       "1   83807.86              1          0               1        112542.58   \n",
       "2  159660.80              3          1               0        113931.57   \n",
       "3       0.00              2          0               0         93826.63   \n",
       "4  125510.82              1          1               1         79084.10   \n",
       "\n",
       "   Exited  Complain  Satisfaction Score Card Type  Point Earned  \n",
       "0       1         1                   2   DIAMOND           464  \n",
       "1       0         1                   3   DIAMOND           456  \n",
       "2       1         1                   3   DIAMOND           377  \n",
       "3       0         0                   5      GOLD           350  \n",
       "4       0         0                   5      GOLD           425  "
      ]
     },
     "execution_count": 20,
     "metadata": {},
     "output_type": "execute_result"
    }
   ],
   "source": [
    "# Caso houvessem linhas duplicadas, seriam excluidas e impresso o novo conjunto de dados\n",
    "data = data.drop_duplicates()\n",
    "data.head()"
   ]
  },
  {
   "cell_type": "markdown",
   "id": "681a506f",
   "metadata": {},
   "source": [
    "## 2.4 Renomeando Títulos\n",
    "Nesta etapa, realizaremos a renomeação dos títulos das colunas para torná-los mais descritivos e facilitar o estudo e a compreensão dos dados.\n",
    "\n",
    "Isso nos ajudará a trabalhar com os dados de forma mais eficiente e compreensível em etapas posteriores da análise.\n"
   ]
  },
  {
   "cell_type": "code",
   "execution_count": 26,
   "id": "63fd029c",
   "metadata": {},
   "outputs": [
    {
     "data": {
      "text/html": [
       "<div>\n",
       "<style scoped>\n",
       "    .dataframe tbody tr th:only-of-type {\n",
       "        vertical-align: middle;\n",
       "    }\n",
       "\n",
       "    .dataframe tbody tr th {\n",
       "        vertical-align: top;\n",
       "    }\n",
       "\n",
       "    .dataframe thead th {\n",
       "        text-align: right;\n",
       "    }\n",
       "</style>\n",
       "<table border=\"1\" class=\"dataframe\">\n",
       "  <thead>\n",
       "    <tr style=\"text-align: right;\">\n",
       "      <th></th>\n",
       "      <th>PontuacaoCredito</th>\n",
       "      <th>Localizacao</th>\n",
       "      <th>Genero</th>\n",
       "      <th>Idade</th>\n",
       "      <th>TempoPermanencia</th>\n",
       "      <th>Saldo</th>\n",
       "      <th>Produtos</th>\n",
       "      <th>TemCartaoCredito</th>\n",
       "      <th>MembroAtivo</th>\n",
       "      <th>SalarioEstimado</th>\n",
       "      <th>Churn</th>\n",
       "      <th>Reclamacoess</th>\n",
       "      <th>IndiceSatisfacao</th>\n",
       "      <th>TipoCartao</th>\n",
       "      <th>PontosAcumulados</th>\n",
       "    </tr>\n",
       "  </thead>\n",
       "  <tbody>\n",
       "    <tr>\n",
       "      <th>0</th>\n",
       "      <td>619</td>\n",
       "      <td>France</td>\n",
       "      <td>Female</td>\n",
       "      <td>42</td>\n",
       "      <td>2</td>\n",
       "      <td>0.00</td>\n",
       "      <td>1</td>\n",
       "      <td>1</td>\n",
       "      <td>1</td>\n",
       "      <td>101348.88</td>\n",
       "      <td>1</td>\n",
       "      <td>1</td>\n",
       "      <td>2</td>\n",
       "      <td>DIAMOND</td>\n",
       "      <td>464</td>\n",
       "    </tr>\n",
       "    <tr>\n",
       "      <th>1</th>\n",
       "      <td>608</td>\n",
       "      <td>Spain</td>\n",
       "      <td>Female</td>\n",
       "      <td>41</td>\n",
       "      <td>1</td>\n",
       "      <td>83807.86</td>\n",
       "      <td>1</td>\n",
       "      <td>0</td>\n",
       "      <td>1</td>\n",
       "      <td>112542.58</td>\n",
       "      <td>0</td>\n",
       "      <td>1</td>\n",
       "      <td>3</td>\n",
       "      <td>DIAMOND</td>\n",
       "      <td>456</td>\n",
       "    </tr>\n",
       "    <tr>\n",
       "      <th>2</th>\n",
       "      <td>502</td>\n",
       "      <td>France</td>\n",
       "      <td>Female</td>\n",
       "      <td>42</td>\n",
       "      <td>8</td>\n",
       "      <td>159660.80</td>\n",
       "      <td>3</td>\n",
       "      <td>1</td>\n",
       "      <td>0</td>\n",
       "      <td>113931.57</td>\n",
       "      <td>1</td>\n",
       "      <td>1</td>\n",
       "      <td>3</td>\n",
       "      <td>DIAMOND</td>\n",
       "      <td>377</td>\n",
       "    </tr>\n",
       "    <tr>\n",
       "      <th>3</th>\n",
       "      <td>699</td>\n",
       "      <td>France</td>\n",
       "      <td>Female</td>\n",
       "      <td>39</td>\n",
       "      <td>1</td>\n",
       "      <td>0.00</td>\n",
       "      <td>2</td>\n",
       "      <td>0</td>\n",
       "      <td>0</td>\n",
       "      <td>93826.63</td>\n",
       "      <td>0</td>\n",
       "      <td>0</td>\n",
       "      <td>5</td>\n",
       "      <td>GOLD</td>\n",
       "      <td>350</td>\n",
       "    </tr>\n",
       "    <tr>\n",
       "      <th>4</th>\n",
       "      <td>850</td>\n",
       "      <td>Spain</td>\n",
       "      <td>Female</td>\n",
       "      <td>43</td>\n",
       "      <td>2</td>\n",
       "      <td>125510.82</td>\n",
       "      <td>1</td>\n",
       "      <td>1</td>\n",
       "      <td>1</td>\n",
       "      <td>79084.10</td>\n",
       "      <td>0</td>\n",
       "      <td>0</td>\n",
       "      <td>5</td>\n",
       "      <td>GOLD</td>\n",
       "      <td>425</td>\n",
       "    </tr>\n",
       "  </tbody>\n",
       "</table>\n",
       "</div>"
      ],
      "text/plain": [
       "   PontuacaoCredito Localizacao  Genero  Idade  TempoPermanencia      Saldo  \\\n",
       "0               619      France  Female     42                 2       0.00   \n",
       "1               608       Spain  Female     41                 1   83807.86   \n",
       "2               502      France  Female     42                 8  159660.80   \n",
       "3               699      France  Female     39                 1       0.00   \n",
       "4               850       Spain  Female     43                 2  125510.82   \n",
       "\n",
       "   Produtos  TemCartaoCredito  MembroAtivo  SalarioEstimado  Churn  \\\n",
       "0         1                 1            1        101348.88      1   \n",
       "1         1                 0            1        112542.58      0   \n",
       "2         3                 1            0        113931.57      1   \n",
       "3         2                 0            0         93826.63      0   \n",
       "4         1                 1            1         79084.10      0   \n",
       "\n",
       "   Reclamacoess  IndiceSatisfacao TipoCartao  PontosAcumulados  \n",
       "0             1                 2    DIAMOND               464  \n",
       "1             1                 3    DIAMOND               456  \n",
       "2             1                 3    DIAMOND               377  \n",
       "3             0                 5       GOLD               350  \n",
       "4             0                 5       GOLD               425  "
      ]
     },
     "execution_count": 26,
     "metadata": {},
     "output_type": "execute_result"
    }
   ],
   "source": [
    "# Alterando nome das Colunas\n",
    "data = data.rename(columns={\"CustomerId\": \"ID\",\n",
    "                            \"Surname\": \"Sobrenome\",\n",
    "                            \"CreditScore\": \"PontuacaoCredito\", \n",
    "                            \"Geography\": \"Localizacao\", \n",
    "                            \"Gender\": \"Genero\",\n",
    "                            \"Age\": \"Idade\",\n",
    "                            \"Tenure\": \"TempoPermanencia\",\n",
    "                            \"Balance\": \"Saldo\",\n",
    "                            \"NumOfProducts\": \"Produtos\",\n",
    "                            \"HasCrCard\": \"TemCartaoCredito\",\n",
    "                            \"IsActiveMember\": \"MembroAtivo\",\n",
    "                            \"EstimatedSalary\": \"SalarioEstimado\",\n",
    "                            \"Exited\": \"Churn\",\n",
    "                            \"Complain\": \"Reclamacoes\",\n",
    "                            \"Satisfaction Score\": \"IndiceSatisfacao\",\n",
    "                            \"Card Type\": \"TipoCartao\",\n",
    "                            \"Point Earned\": \"PontosAcumulados\"})\n",
    "data.head()"
   ]
  },
  {
   "cell_type": "markdown",
   "id": "5a5ee980",
   "metadata": {},
   "source": [
    "## 2.5 Exclusão de Colunas Desnecessárias\n",
    "\n",
    "Nesta etapa, procederemos com a exclusão de colunas que são consideradas desnecessárias para nossa análise. A exclusão de colunas que não são relevantes ou não contribuem para nossos objetivos pode simplificar o conjunto de dados e tornar nossa análise mais eficiente.\n",
    "\n",
    "Após a exclusão, atualizaremos o conjunto de dados resultante para refletir a nova estrutura.\n",
    "\n",
    "\n"
   ]
  },
  {
   "cell_type": "code",
   "execution_count": 23,
   "id": "694f9d97",
   "metadata": {},
   "outputs": [
    {
     "data": {
      "text/html": [
       "<div>\n",
       "<style scoped>\n",
       "    .dataframe tbody tr th:only-of-type {\n",
       "        vertical-align: middle;\n",
       "    }\n",
       "\n",
       "    .dataframe tbody tr th {\n",
       "        vertical-align: top;\n",
       "    }\n",
       "\n",
       "    .dataframe thead th {\n",
       "        text-align: right;\n",
       "    }\n",
       "</style>\n",
       "<table border=\"1\" class=\"dataframe\">\n",
       "  <thead>\n",
       "    <tr style=\"text-align: right;\">\n",
       "      <th></th>\n",
       "      <th>PontuacaoCredito</th>\n",
       "      <th>Localizacao</th>\n",
       "      <th>Genero</th>\n",
       "      <th>Idade</th>\n",
       "      <th>TempoPermanencia</th>\n",
       "      <th>Saldo</th>\n",
       "      <th>Produtos</th>\n",
       "      <th>TemCartaoCredito</th>\n",
       "      <th>MembroAtivo</th>\n",
       "      <th>SalarioEstimado</th>\n",
       "      <th>Churn</th>\n",
       "      <th>Reclamacoess</th>\n",
       "      <th>IndiceSatisfacao</th>\n",
       "      <th>TipoCartao</th>\n",
       "      <th>PontosAcumulados</th>\n",
       "    </tr>\n",
       "  </thead>\n",
       "  <tbody>\n",
       "    <tr>\n",
       "      <th>0</th>\n",
       "      <td>619</td>\n",
       "      <td>France</td>\n",
       "      <td>Female</td>\n",
       "      <td>42</td>\n",
       "      <td>2</td>\n",
       "      <td>0.00</td>\n",
       "      <td>1</td>\n",
       "      <td>1</td>\n",
       "      <td>1</td>\n",
       "      <td>101348.88</td>\n",
       "      <td>1</td>\n",
       "      <td>1</td>\n",
       "      <td>2</td>\n",
       "      <td>DIAMOND</td>\n",
       "      <td>464</td>\n",
       "    </tr>\n",
       "    <tr>\n",
       "      <th>1</th>\n",
       "      <td>608</td>\n",
       "      <td>Spain</td>\n",
       "      <td>Female</td>\n",
       "      <td>41</td>\n",
       "      <td>1</td>\n",
       "      <td>83807.86</td>\n",
       "      <td>1</td>\n",
       "      <td>0</td>\n",
       "      <td>1</td>\n",
       "      <td>112542.58</td>\n",
       "      <td>0</td>\n",
       "      <td>1</td>\n",
       "      <td>3</td>\n",
       "      <td>DIAMOND</td>\n",
       "      <td>456</td>\n",
       "    </tr>\n",
       "    <tr>\n",
       "      <th>2</th>\n",
       "      <td>502</td>\n",
       "      <td>France</td>\n",
       "      <td>Female</td>\n",
       "      <td>42</td>\n",
       "      <td>8</td>\n",
       "      <td>159660.80</td>\n",
       "      <td>3</td>\n",
       "      <td>1</td>\n",
       "      <td>0</td>\n",
       "      <td>113931.57</td>\n",
       "      <td>1</td>\n",
       "      <td>1</td>\n",
       "      <td>3</td>\n",
       "      <td>DIAMOND</td>\n",
       "      <td>377</td>\n",
       "    </tr>\n",
       "    <tr>\n",
       "      <th>3</th>\n",
       "      <td>699</td>\n",
       "      <td>France</td>\n",
       "      <td>Female</td>\n",
       "      <td>39</td>\n",
       "      <td>1</td>\n",
       "      <td>0.00</td>\n",
       "      <td>2</td>\n",
       "      <td>0</td>\n",
       "      <td>0</td>\n",
       "      <td>93826.63</td>\n",
       "      <td>0</td>\n",
       "      <td>0</td>\n",
       "      <td>5</td>\n",
       "      <td>GOLD</td>\n",
       "      <td>350</td>\n",
       "    </tr>\n",
       "    <tr>\n",
       "      <th>4</th>\n",
       "      <td>850</td>\n",
       "      <td>Spain</td>\n",
       "      <td>Female</td>\n",
       "      <td>43</td>\n",
       "      <td>2</td>\n",
       "      <td>125510.82</td>\n",
       "      <td>1</td>\n",
       "      <td>1</td>\n",
       "      <td>1</td>\n",
       "      <td>79084.10</td>\n",
       "      <td>0</td>\n",
       "      <td>0</td>\n",
       "      <td>5</td>\n",
       "      <td>GOLD</td>\n",
       "      <td>425</td>\n",
       "    </tr>\n",
       "  </tbody>\n",
       "</table>\n",
       "</div>"
      ],
      "text/plain": [
       "   PontuacaoCredito Localizacao  Genero  Idade  TempoPermanencia      Saldo  \\\n",
       "0               619      France  Female     42                 2       0.00   \n",
       "1               608       Spain  Female     41                 1   83807.86   \n",
       "2               502      France  Female     42                 8  159660.80   \n",
       "3               699      France  Female     39                 1       0.00   \n",
       "4               850       Spain  Female     43                 2  125510.82   \n",
       "\n",
       "   Produtos  TemCartaoCredito  MembroAtivo  SalarioEstimado  Churn  \\\n",
       "0         1                 1            1        101348.88      1   \n",
       "1         1                 0            1        112542.58      0   \n",
       "2         3                 1            0        113931.57      1   \n",
       "3         2                 0            0         93826.63      0   \n",
       "4         1                 1            1         79084.10      0   \n",
       "\n",
       "   Reclamacoess  IndiceSatisfacao TipoCartao  PontosAcumulados  \n",
       "0             1                 2    DIAMOND               464  \n",
       "1             1                 3    DIAMOND               456  \n",
       "2             1                 3    DIAMOND               377  \n",
       "3             0                 5       GOLD               350  \n",
       "4             0                 5       GOLD               425  "
      ]
     },
     "execution_count": 23,
     "metadata": {},
     "output_type": "execute_result"
    }
   ],
   "source": [
    "# Excluindo colunas desnecessarias (Importante que este processo seja executado antes de exclusão de linhas duplicadas, uma vez que pode ter cliente com perfis semelhantes evitando que esses dados sejam suprimidos)\n",
    "data = data.drop(['ID', \n",
    "                  'Sobrenome'],\n",
    "                 axis=1)\n",
    "data.head()"
   ]
  },
  {
   "cell_type": "markdown",
   "id": "b1b3916a",
   "metadata": {},
   "source": [
    "## 2.6 Informações Gerais do Conjunto de Dados\n",
    "\n",
    "Nesta etapa, exploraremos informações gerais sobre o conjunto de dados para compreender sua estrutura e características. Isso nos ajudará a ter uma visão inicial dos dados com os quais estamos trabalhando."
   ]
  },
  {
   "cell_type": "code",
   "execution_count": 25,
   "id": "5b3930d7",
   "metadata": {},
   "outputs": [
    {
     "name": "stdout",
     "output_type": "stream",
     "text": [
      "<class 'pandas.core.frame.DataFrame'>\n",
      "Int64Index: 10000 entries, 0 to 9999\n",
      "Data columns (total 15 columns):\n",
      " #   Column            Non-Null Count  Dtype  \n",
      "---  ------            --------------  -----  \n",
      " 0   PontuacaoCredito  10000 non-null  int64  \n",
      " 1   Localizacao       10000 non-null  object \n",
      " 2   Genero            10000 non-null  object \n",
      " 3   Idade             10000 non-null  int64  \n",
      " 4   TempoPermanencia  10000 non-null  int64  \n",
      " 5   Saldo             10000 non-null  float64\n",
      " 6   Produtos          10000 non-null  int64  \n",
      " 7   TemCartaoCredito  10000 non-null  int64  \n",
      " 8   MembroAtivo       10000 non-null  int64  \n",
      " 9   SalarioEstimado   10000 non-null  float64\n",
      " 10  Churn             10000 non-null  int64  \n",
      " 11  Reclamacoess      10000 non-null  int64  \n",
      " 12  IndiceSatisfacao  10000 non-null  int64  \n",
      " 13  TipoCartao        10000 non-null  object \n",
      " 14  PontosAcumulados  10000 non-null  int64  \n",
      "dtypes: float64(2), int64(10), object(3)\n",
      "memory usage: 1.2+ MB\n"
     ]
    }
   ],
   "source": [
    "# Obter informações gerais do conjunto de dados\n",
    "data.info() "
   ]
  },
  {
   "cell_type": "markdown",
   "id": "8abc8f98",
   "metadata": {},
   "source": [
    "# 3. EDA (Análise Exploratória dos Dados)\n",
    "Após a conclusão do primeiro processo de tratamento e transformação do conjunto de dados, avançaremos para a etapa de Análise Exploratória dos Dados (EDA). Durante esta fase, examinaremos cada variável individualmente para identificar seu valor para o estudo. Além disso, faremos uma análise comparativa entre cada variável e a variável alvo \"Churn,\" que é o foco principal de nosso estudo.\n",
    "        "
   ]
  },
  {
   "cell_type": "markdown",
   "id": "80c8d7d6",
   "metadata": {},
   "source": [
    "## 3.1 Análise Individual das Variáveis\n",
    "\n",
    "Começaremos a análise exploratória examinando cada variável separadamente. Isso inclui:\n",
    "\n",
    "- Cálculo de estatísticas descritivas, como média, mediana e desvio padrão para variáveis numéricas.\n",
    "- Criação de gráficos e visualizações relevantes para cada tipo de variável (numérica, categórica, temporal).\n",
    "- Identificação de tendências, padrões ou características únicas em cada variável.\n",
    "\n",
    "### Exemplo: Análise da Variável \"Pontuação de Crédito\"\n",
    "\n",
    "Vamos ilustrar essa abordagem com um exemplo da análise da variável \"Pontuação de Crédito\":\n",
    "\n",
    "- Cálculo das estatísticas descritivas, como média, mediana e desvio padrão.\n",
    "- Criação de um histograma para visualizar a distribuição da pontuação de crédito.\n",
    "- Comparação da distribuição da pontuação de crédito entre clientes que churnaram e os que não churnaram.\n",
    "\n",
    "\n"
   ]
  },
  {
   "cell_type": "markdown",
   "id": "0ae5451c",
   "metadata": {},
   "source": [
    "### 3.1.1 Pontuação de Crédito"
   ]
  },
  {
   "cell_type": "markdown",
   "id": "43cb4e0b",
   "metadata": {},
   "source": [
    "* Estatísticas descritivas da variável"
   ]
  },
  {
   "cell_type": "code",
   "execution_count": 32,
   "id": "92785d5c",
   "metadata": {},
   "outputs": [
    {
     "name": "stdout",
     "output_type": "stream",
     "text": [
      "Média da Pontuação de Crédito: 650.53\n",
      "Mediana da Pontuação de Crédito: 652.0\n",
      "Desvio Padrão da Pontuação de Crédito: 96.65\n"
     ]
    }
   ],
   "source": [
    "# Cálculo de estatísticas descritivas\n",
    "media_pont_credito = round(data['PontuacaoCredito'].mean(),2)\n",
    "mediana_pont_credito = round(data['PontuacaoCredito'].median(),2)\n",
    "desvio_padrao_pont_credito = round(data['PontuacaoCredito'].std(),2)\n",
    "\n",
    "print(f'Média da Pontuação de Crédito: {media_pont_credito}')\n",
    "print(f'Mediana da Pontuação de Crédito: {mediana_pont_credito}')\n",
    "print(f'Desvio Padrão da Pontuação de Crédito: {desvio_padrao_pont_credito}')"
   ]
  },
  {
   "cell_type": "code",
   "execution_count": 59,
   "id": "5dac8169",
   "metadata": {},
   "outputs": [
    {
     "data": {
      "image/png": "[encoded data removed]",
      "text/plain": [
       "<Figure size 1152x432 with 1 Axes>"
      ]
     },
     "metadata": {},
     "output_type": "display_data"
    }
   ],
   "source": [
    "# Histograma para visualizar a distribuição da Pontuação de Crédito\n",
    "plt.figure(figsize=(16, 6))\n",
    "sns.histplot(data['PontuacaoCredito'], bins=30, kde=True)\n",
    "plt.title('Distribuição da Pontuação de Crédito')\n",
    "plt.xlabel('Pontuação de Crédito')\n",
    "plt.ylabel('Frequência')\n",
    "plt.show()"
   ]
  },
  {
   "cell_type": "code",
   "execution_count": 50,
   "id": "e16b1111",
   "metadata": {},
   "outputs": [
    {
     "data": {
      "image/png": "[encoded data removed]",
      "text/plain": [
       "<Figure size 1152x144 with 1 Axes>"
      ]
     },
     "metadata": {},
     "output_type": "display_data"
    }
   ],
   "source": [
    "# Criando um violin plot para a variável \"Pontuação de Crédito\"\n",
    "sns.set(style=\"whitegrid\")\n",
    "\n",
    "plt.figure(figsize=(16, 2))\n",
    "sns.boxplot(x='PontuacaoCredito', data=data)\n",
    "plt.title('Box Plot da Pontuação de Crédito')\n",
    "plt.xlabel('Pontuação de Crédito')\n",
    "plt.show()"
   ]
  },
  {
   "cell_type": "code",
   "execution_count": 65,
   "id": "e144967e",
   "metadata": {},
   "outputs": [
    {
     "data": {
      "image/png": "[encoded data removed]",
      "text/plain": [
       "<Figure size 1152x576 with 2 Axes>"
      ]
     },
     "metadata": {},
     "output_type": "display_data"
    }
   ],
   "source": [
    "# Box plot da Pontuação de Crédito para clientes Churn e não-Churn\n",
    "sns.set(style=\"whitegrid\")\n",
    "\n",
    "fig, axes = plt.subplots(nrows=1, \n",
    "                         ncols=2, \n",
    "                         figsize=(16, 8))\n",
    "\n",
    "# Box plot 1 (Clientes Churn)\n",
    "sns.boxplot(ax=axes[0], \n",
    "            x='Churn', \n",
    "            y='PontuacaoCredito', \n",
    "            data=data[data['Churn'] == 0])\n",
    "axes[0].set_title('Clientes Churn')\n",
    "\n",
    "# Box plot 2 (Clientes Não Churn)\n",
    "sns.boxplot(ax=axes[1],\n",
    "            x='Churn', \n",
    "            y='PontuacaoCredito',\n",
    "            data=data[data['Churn'] == 1])\n",
    "axes[1].set_title('Clientes Não Churn')\n",
    "\n",
    "# Ajustar o layout\n",
    "plt.tight_layout()\n",
    "\n",
    "# Exibir o gráfico\n",
    "plt.show()\n"
   ]
  },
  {
   "cell_type": "code",
   "execution_count": 79,
   "id": "9ed4351a",
   "metadata": {},
   "outputs": [
    {
     "data": {
      "text/plain": [
       "count    10000.000000\n",
       "mean       650.528800\n",
       "std         96.653299\n",
       "min        350.000000\n",
       "25%        584.000000\n",
       "50%        652.000000\n",
       "75%        718.000000\n",
       "max        850.000000\n",
       "Name: PontuacaoCredito, dtype: float64"
      ]
     },
     "execution_count": 79,
     "metadata": {},
     "output_type": "execute_result"
    }
   ],
   "source": [
    "data['PontuacaoCredito'].describe()"
   ]
  },
  {
   "cell_type": "code",
   "execution_count": 88,
   "id": "532ec3e6",
   "metadata": {
    "scrolled": true
   },
   "outputs": [],
   "source": [
    "# Definir os rótulos dos grupos\n",
    "labels = [\"{0} - {1}\".format(i, i + 49) for i in range(301, 850, 50)]\n",
    "\n",
    "# Criar uma nova coluna \"PontuacaoCredito_grupo\" com base nos intervalos\n",
    "data['PontuacaoCredito_grupo'] =  pd.cut(data.PontuacaoCredito,\n",
    "                                        bins=range(301, 901, 50),\n",
    "                                        right=False,\n",
    "                                        labels=labels)"
   ]
  },
  {
   "cell_type": "code",
   "execution_count": 89,
   "id": "a0c0b1f6",
   "metadata": {},
   "outputs": [
    {
     "data": {
      "text/plain": [
       "651 - 700    1947\n",
       "601 - 650    1871\n",
       "701 - 750    1518\n",
       "551 - 600    1445\n",
       "501 - 550     978\n",
       "751 - 800     953\n",
       "801 - 850     645\n",
       "451 - 500     454\n",
       "401 - 450     170\n",
       "351 - 400      14\n",
       "301 - 350       5\n",
       "Name: PontuacaoCredito_grupo, dtype: int64"
      ]
     },
     "execution_count": 89,
     "metadata": {},
     "output_type": "execute_result"
    }
   ],
   "source": [
    "# Verificando os dados da nova coluna\n",
    "data['PontuacaoCredito_grupo'].value_counts()"
   ]
  },
  {
   "cell_type": "code",
   "execution_count": 98,
   "id": "bbcb3d01",
   "metadata": {},
   "outputs": [
    {
     "data": {
      "image/png": "[encoded data removed]",
      "text/plain": [
       "<Figure size 864x432 with 1 Axes>"
      ]
     },
     "metadata": {},
     "output_type": "display_data"
    }
   ],
   "source": [
    "# Agrupar os dados por PontuacaoCredito_grupo e Churn e contar as ocorrências\n",
    "grouped_data = data.groupby(['PontuacaoCredito_grupo', 'Churn']).size().unstack(fill_value=0)\n",
    "\n",
    "# Definir os rótulos das categorias e a largura das barras\n",
    "categories = grouped_data.index\n",
    "x = np.arange(len(categories))\n",
    "width = 0.4\n",
    "\n",
    "# Criar o gráfico de barras agrupadas\n",
    "fig, ax = plt.subplots(figsize = (12, 6))\n",
    "for i, (churn_label, color) in enumerate(zip([0, 1], ['blue', 'red'])):\n",
    "    values = grouped_data[churn_label].values\n",
    "    ax.bar(x + i * width, values, width, label=f'Churn={churn_label}', color=color)\n",
    "\n",
    "# Personalizar o gráfico\n",
    "ax.set_xlabel('Pontuação de Crédito')\n",
    "ax.set_ylabel('Quantidade')\n",
    "ax.set_title('Churn por Pontuação de Crédito')\n",
    "ax.set_xticks(x + width / 2)\n",
    "ax.set_xticklabels(categories, rotation=0)\n",
    "ax.legend(title='Churn')\n",
    "\n",
    "plt.tight_layout()\n",
    "plt.show()\n"
   ]
  },
  {
   "cell_type": "markdown",
   "id": "497ca8ab",
   "metadata": {},
   "source": [
    "Capítulo 3: Exploração dos Dados\n",
    "Neste capítulo, você pode se concentrar em explorar e entender os dados em detalhes. Aqui estão algumas das atividades que podem ser incluídas:\n",
    "\n",
    "Análise Descritiva: Calcule estatísticas descritivas, como média, mediana, desvio padrão, etc., para variáveis numéricas.\n",
    "Visualização de Dados: Crie gráficos e visualizações para entender a distribuição e relacionamentos entre as variáveis.\n",
    "Análise de Correlação: Calcule a correlação entre variáveis para identificar relações.\n",
    "Análise de Variáveis Categóricas: Explore variáveis categóricas por meio de tabelas de frequência e gráficos.\n",
    "Análise de Dados Temporais (se aplicável): Se houver dados temporais, faça análises específicas para entender tendências ao longo do tempo.\n",
    "Capítulo 4: Tratamento dos Dados\n",
    "Neste capítulo, você pode se concentrar em preparar os dados para a modelagem. Isso pode incluir:\n",
    "\n",
    "Tratamento de Outliers: Decida como lidar com valores extremos, se aplicável.\n",
    "Codificação de Variáveis Categóricas: Escolha a abordagem apropriada para codificar variáveis categóricas.\n",
    "Normalização ou Padronização: Realize essas etapas, se necessário.\n",
    "Engenharia de Recursos: Crie novas características com base em insights.\n",
    "Tratamento de Dados Temporais (se aplicável): Realize etapas específicas para dados temporais, como agregações de tempo.\n",
    "Documentação: Documente todas as transformações de dados realizadas."
   ]
  }
 ],
 "metadata": {
  "kernelspec": {
   "display_name": "Python 3 (ipykernel)",
   "language": "python",
   "name": "python3"
  },
  "language_info": {
   "codemirror_mode": {
    "name": "ipython",
    "version": 3
   },
   "file_extension": ".py",
   "mimetype": "text/x-python",
   "name": "python",
   "nbconvert_exporter": "python",
   "pygments_lexer": "ipython3",
   "version": "3.9.12"
  }
 },
 "nbformat": 4,
 "nbformat_minor": 5
}
