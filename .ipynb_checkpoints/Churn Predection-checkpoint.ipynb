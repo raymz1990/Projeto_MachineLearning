{
 "cells": [
  {
   "cell_type": "markdown",
   "id": "a5a53a59",
   "metadata": {},
   "source": [
    "<p> <img src=\"https://servicos.nc.ufpr.br/PortalNC/painel/assets/img/logos/logo_ufpr.jpg\" width=\"250\" height=\"250\" align=\"right\">\n",
    "UNIVERSIDADE FEDERAL DO PARANÁ <br>\n",
    "CE329 - APRENDIZAGEM DE MAQUINA <br>\n",
    "Profº: Eduardo Vargas Ferreira <br>\n",
    "Alunos:  GRR20233876 – Leonardo Gonçalves Fischer <br>\n",
    "&nbsp;&nbsp;&nbsp;&nbsp;&nbsp;&nbsp;&nbsp;&nbsp;&nbsp;&nbsp;&nbsp;&nbsp;&nbsp;GRR20233881 – Raymundo Eduardo Pilz <br>\n",
    "</p>"
   ]
  },
  {
   "cell_type": "markdown",
   "id": "fe7ae91c",
   "metadata": {},
   "source": [
    "# ANÁLISE DE CHURN EM UMA INSTITUIÇÃO FINANCEIRA\n",
    "\n",
    "## PROBLEMÁTICA:\n",
    "O problema a ser abordado neste trabalho é a taxa de churn em uma instituição financeira. A taxa \n",
    "de churn, que se refere à perda de clientes ao longo do tempo, é uma métrica crítica para empresas \n",
    "de serviços financeiros, pois afeta diretamente a receita e a satisfação do cliente. O objetivo deste \n",
    "estudo é analisar e compreender os fatores que podem estar contribuindo para o churn de clientes \n",
    "e identificar estratégias para reduzi-lo.\n",
    "### DESCRIÇÃO DO PROBLEMA:\n",
    "Conhecer a taxa de churn de qualquer instituição é importante visto que para a empresa custa muito \n",
    "mais captar um novo cliente do que manter um que já possui.\n",
    "Compreender esses fatores é fundamental para tomar decisões informadas que permite a \n",
    "companhia desenvolver programas de leadade e implementar estratégias que aumentem a retenção \n",
    "de clientes.\n",
    "## OBJETIVOS:\n",
    "* Análise exploratória e descritiva dos principais indicadores e características dos clientes, tais \n",
    "como:\n",
    "    * Pontuação de crédito;\n",
    "    * Localização;\n",
    "    * Gênero;\n",
    "    * Idade;\n",
    "    * Tempo de permanência;\n",
    "    * Saldo da conta;\n",
    "    * Número de produtos;\n",
    "    * Uso de cartão de crédito\n",
    "    * Atividade de conta;\n",
    "    * Salário estimado;\n",
    "    * Churn;\n",
    "    * Reclamações realizadas pelo cliente;\n",
    "    * Índice de satisfação do cliente;\n",
    "    * Tipo de cartão;\n",
    "    * Pontos Acumulados.\n",
    "* Identificação e correção de possíveis inconsistências nos dados fornecidos;\n",
    "* Identificar quais dessas características têm maior correlação com o churn de clientes;\n",
    "* Modelos de predições dos dados para explorar padrões e tendências nos dados relacionados \n",
    "ao churn;\n",
    "* Comparações com modelos com todos os resultados gerados;\n",
    "* Propor recomendações estratégicas com base nos insights obtidos para reduzir a taxa de churn."
   ]
  },
  {
   "cell_type": "markdown",
   "id": "a0039606",
   "metadata": {},
   "source": [
    "## dataset disponivel em: \n",
    "https://www.kaggle.com/datasets/radheshyamkollipara/bank-customer-churn"
   ]
  },
  {
   "cell_type": "markdown",
   "id": "11339e9d",
   "metadata": {},
   "source": [
    "# 1. Importando biblioteca e tratamento dos dados do dataset\n",
    "\n",
    "Nesta seção, serão organizado todas as bibliotecas que serão utilizadas no projeto. O objetivo é manter estruturado as biblioteca armazenadas nesta seção para sua melhor visualização."
   ]
  },
  {
   "cell_type": "code",
   "execution_count": 150,
   "id": "bf4510f3",
   "metadata": {},
   "outputs": [],
   "source": [
    "# Carregando as bibliotecas\n",
    "import pandas as pd\n",
    "import numpy as np\n",
    "import seaborn as sns\n",
    "import matplotlib.pyplot as plt\n",
    "%matplotlib inline\n",
    "sns.set(color_codes=True)\n",
    "import warnings\n",
    "warnings.filterwarnings('ignore')\n",
    "import math"
   ]
  },
  {
   "cell_type": "markdown",
   "id": "a205fb58",
   "metadata": {},
   "source": [
    "# 2. ELT (Extração, Limpeza e Transformação de Dados)\n",
    "\n",
    "Inicialmente será carregado o conjunto de dados extraído do Kaggle, prepará-lo e transformá-lo para que os dados se tornem informações valiosas e possam ser usados efetivamente em nossa análise."
   ]
  },
  {
   "cell_type": "markdown",
   "id": "84c6c92a",
   "metadata": {},
   "source": [
    "## 2.1 Carregamento dos Dados\n",
    "\n",
    "Primeiramente, realizaremos o carregamento do conjunto de dados e uma visualização inicial dos dados carregados."
   ]
  },
  {
   "cell_type": "code",
   "execution_count": 2,
   "id": "7331ce67",
   "metadata": {},
   "outputs": [
    {
     "data": {
      "text/html": [
       "<div>\n",
       "<style scoped>\n",
       "    .dataframe tbody tr th:only-of-type {\n",
       "        vertical-align: middle;\n",
       "    }\n",
       "\n",
       "    .dataframe tbody tr th {\n",
       "        vertical-align: top;\n",
       "    }\n",
       "\n",
       "    .dataframe thead th {\n",
       "        text-align: right;\n",
       "    }\n",
       "</style>\n",
       "<table border=\"1\" class=\"dataframe\">\n",
       "  <thead>\n",
       "    <tr style=\"text-align: right;\">\n",
       "      <th></th>\n",
       "      <th>RowNumber</th>\n",
       "      <th>CustomerId</th>\n",
       "      <th>Surname</th>\n",
       "      <th>CreditScore</th>\n",
       "      <th>Geography</th>\n",
       "      <th>Gender</th>\n",
       "      <th>Age</th>\n",
       "      <th>Tenure</th>\n",
       "      <th>Balance</th>\n",
       "      <th>NumOfProducts</th>\n",
       "      <th>HasCrCard</th>\n",
       "      <th>IsActiveMember</th>\n",
       "      <th>EstimatedSalary</th>\n",
       "      <th>Exited</th>\n",
       "      <th>Complain</th>\n",
       "      <th>Satisfaction Score</th>\n",
       "      <th>Card Type</th>\n",
       "      <th>Point Earned</th>\n",
       "    </tr>\n",
       "  </thead>\n",
       "  <tbody>\n",
       "    <tr>\n",
       "      <th>0</th>\n",
       "      <td>1</td>\n",
       "      <td>15634602</td>\n",
       "      <td>Hargrave</td>\n",
       "      <td>619</td>\n",
       "      <td>France</td>\n",
       "      <td>Female</td>\n",
       "      <td>42</td>\n",
       "      <td>2</td>\n",
       "      <td>0.00</td>\n",
       "      <td>1</td>\n",
       "      <td>1</td>\n",
       "      <td>1</td>\n",
       "      <td>101348.88</td>\n",
       "      <td>1</td>\n",
       "      <td>1</td>\n",
       "      <td>2</td>\n",
       "      <td>DIAMOND</td>\n",
       "      <td>464</td>\n",
       "    </tr>\n",
       "    <tr>\n",
       "      <th>1</th>\n",
       "      <td>2</td>\n",
       "      <td>15647311</td>\n",
       "      <td>Hill</td>\n",
       "      <td>608</td>\n",
       "      <td>Spain</td>\n",
       "      <td>Female</td>\n",
       "      <td>41</td>\n",
       "      <td>1</td>\n",
       "      <td>83807.86</td>\n",
       "      <td>1</td>\n",
       "      <td>0</td>\n",
       "      <td>1</td>\n",
       "      <td>112542.58</td>\n",
       "      <td>0</td>\n",
       "      <td>1</td>\n",
       "      <td>3</td>\n",
       "      <td>DIAMOND</td>\n",
       "      <td>456</td>\n",
       "    </tr>\n",
       "    <tr>\n",
       "      <th>2</th>\n",
       "      <td>3</td>\n",
       "      <td>15619304</td>\n",
       "      <td>Onio</td>\n",
       "      <td>502</td>\n",
       "      <td>France</td>\n",
       "      <td>Female</td>\n",
       "      <td>42</td>\n",
       "      <td>8</td>\n",
       "      <td>159660.80</td>\n",
       "      <td>3</td>\n",
       "      <td>1</td>\n",
       "      <td>0</td>\n",
       "      <td>113931.57</td>\n",
       "      <td>1</td>\n",
       "      <td>1</td>\n",
       "      <td>3</td>\n",
       "      <td>DIAMOND</td>\n",
       "      <td>377</td>\n",
       "    </tr>\n",
       "    <tr>\n",
       "      <th>3</th>\n",
       "      <td>4</td>\n",
       "      <td>15701354</td>\n",
       "      <td>Boni</td>\n",
       "      <td>699</td>\n",
       "      <td>France</td>\n",
       "      <td>Female</td>\n",
       "      <td>39</td>\n",
       "      <td>1</td>\n",
       "      <td>0.00</td>\n",
       "      <td>2</td>\n",
       "      <td>0</td>\n",
       "      <td>0</td>\n",
       "      <td>93826.63</td>\n",
       "      <td>0</td>\n",
       "      <td>0</td>\n",
       "      <td>5</td>\n",
       "      <td>GOLD</td>\n",
       "      <td>350</td>\n",
       "    </tr>\n",
       "    <tr>\n",
       "      <th>4</th>\n",
       "      <td>5</td>\n",
       "      <td>15737888</td>\n",
       "      <td>Mitchell</td>\n",
       "      <td>850</td>\n",
       "      <td>Spain</td>\n",
       "      <td>Female</td>\n",
       "      <td>43</td>\n",
       "      <td>2</td>\n",
       "      <td>125510.82</td>\n",
       "      <td>1</td>\n",
       "      <td>1</td>\n",
       "      <td>1</td>\n",
       "      <td>79084.10</td>\n",
       "      <td>0</td>\n",
       "      <td>0</td>\n",
       "      <td>5</td>\n",
       "      <td>GOLD</td>\n",
       "      <td>425</td>\n",
       "    </tr>\n",
       "  </tbody>\n",
       "</table>\n",
       "</div>"
      ],
      "text/plain": [
       "   RowNumber  CustomerId   Surname  CreditScore Geography  Gender  Age  \\\n",
       "0          1    15634602  Hargrave          619    France  Female   42   \n",
       "1          2    15647311      Hill          608     Spain  Female   41   \n",
       "2          3    15619304      Onio          502    France  Female   42   \n",
       "3          4    15701354      Boni          699    France  Female   39   \n",
       "4          5    15737888  Mitchell          850     Spain  Female   43   \n",
       "\n",
       "   Tenure    Balance  NumOfProducts  HasCrCard  IsActiveMember  \\\n",
       "0       2       0.00              1          1               1   \n",
       "1       1   83807.86              1          0               1   \n",
       "2       8  159660.80              3          1               0   \n",
       "3       1       0.00              2          0               0   \n",
       "4       2  125510.82              1          1               1   \n",
       "\n",
       "   EstimatedSalary  Exited  Complain  Satisfaction Score Card Type  \\\n",
       "0        101348.88       1         1                   2   DIAMOND   \n",
       "1        112542.58       0         1                   3   DIAMOND   \n",
       "2        113931.57       1         1                   3   DIAMOND   \n",
       "3         93826.63       0         0                   5      GOLD   \n",
       "4         79084.10       0         0                   5      GOLD   \n",
       "\n",
       "   Point Earned  \n",
       "0           464  \n",
       "1           456  \n",
       "2           377  \n",
       "3           350  \n",
       "4           425  "
      ]
     },
     "execution_count": 2,
     "metadata": {},
     "output_type": "execute_result"
    }
   ],
   "source": [
    "## Carregando os dados\n",
    "\n",
    "data = pd.read_csv('dataset\\\\Customer-Churn-Records.csv')\n",
    "data.head()"
   ]
  },
  {
   "cell_type": "code",
   "execution_count": 3,
   "id": "e6ab964d",
   "metadata": {},
   "outputs": [
    {
     "name": "stdout",
     "output_type": "stream",
     "text": [
      "O conjunto de dados possui 10000 linhas e 18 colunas.\n"
     ]
    }
   ],
   "source": [
    "# Verificando o volume de dados do dataset\n",
    "shape = data.shape\n",
    "print(\"O conjunto de dados possui {} linhas e {} colunas.\".format(shape[0], shape[1]))"
   ]
  },
  {
   "cell_type": "markdown",
   "id": "3f006f20",
   "metadata": {},
   "source": [
    "## 2.2 Verificação de Dados Faltantes\n",
    "\n",
    "Agora, realizaremos a verificação das colunas que contêm dados faltantes em nosso conjunto de dados. A identificação de variáveis com valores ausentes é fundamental, pois isso pode impactar nossa análise e determinar a necessidade de tratamento dos dados."
   ]
  },
  {
   "cell_type": "code",
   "execution_count": 4,
   "id": "10043bfe",
   "metadata": {},
   "outputs": [
    {
     "name": "stdout",
     "output_type": "stream",
     "text": [
      "Nenhuma coluna possui dados ausentes.\n"
     ]
    }
   ],
   "source": [
    "# Verificando colunas com dados faltantes\n",
    "data_na = data.isnull().sum()\n",
    "cols_na = data_na[data_na > 0]\n",
    "\n",
    "if cols_na.empty:\n",
    "    print(\"Nenhuma coluna possui dados ausentes.\")\n",
    "else:\n",
    "    print(f\"{len(cols_na)} coluna(s) possui(em) dados ausentes.\")\n",
    "    print(\"Colunas com dados ausentes:\")\n",
    "    for col, missing_count in cols_na.items():\n",
    "        print(f\"{col}: {missing_count} valor(es) ausente(s)\")\n"
   ]
  },
  {
   "cell_type": "code",
   "execution_count": 5,
   "id": "3849004b",
   "metadata": {},
   "outputs": [
    {
     "data": {
      "image/png": "[encoded data removed]",
      "text/plain": [
       "<Figure size 1152x360 with 1 Axes>"
      ]
     },
     "metadata": {},
     "output_type": "display_data"
    }
   ],
   "source": [
    "# Representação gráfica\n",
    "# Verificando colunas com dados faltantes\n",
    "data_na = pd.DataFrame((data.isnull().sum() * 100 / data.shape[0])).reset_index()\n",
    "\n",
    "# Gráfico\n",
    "plt.figure (figsize = (16,5))\n",
    "ax = sns.pointplot('index', 0, data = data_na)\n",
    "plt.xticks(rotation = 90,fontsize = 7)\n",
    "plt.title(\"Porcentagem de dados faltantes\")\n",
    "plt.ylabel(\"Porcentagem\")\n",
    "plt.show()"
   ]
  },
  {
   "cell_type": "markdown",
   "id": "63d59457",
   "metadata": {},
   "source": [
    "## 2.3 Verificação e Exclusão de Dados Duplicadas\n",
    "Nesta etapa, realizaremos a verificação de dados duplicados. Embora seja improvável que tenhamos dados duplicados neste conjunto de dados, é uma etapa importante para garantir a integridade de nossa análise. Vamos verificar e, se necessário, remover qualquer entrada duplicada.\n",
    "\n",
    "Para evitar interferências na detecção de dados duplicados, também excluiremos a coluna \"RowNumber\" de nosso conjunto de dados, pois esta coluna parece ser uma numeração automática das linhas."
   ]
  },
  {
   "cell_type": "code",
   "execution_count": 6,
   "id": "4deee2c1",
   "metadata": {},
   "outputs": [],
   "source": [
    "# Eliminando a coluna RowNumber\n",
    "data = data.drop(['RowNumber'], axis=1)"
   ]
  },
  {
   "cell_type": "code",
   "execution_count": 7,
   "id": "9becd27b",
   "metadata": {},
   "outputs": [
    {
     "name": "stdout",
     "output_type": "stream",
     "text": [
      "Nenhum dado duplicado foi encontrado no conjunto de dados.\n"
     ]
    }
   ],
   "source": [
    "# Verificando linhas duplicadas\n",
    "rows_data = data[data.duplicated()]\n",
    "\n",
    "if rows_data.empty:\n",
    "    print(\"Nenhum dado duplicado foi encontrado no conjunto de dados.\")\n",
    "else:\n",
    "    print(f\"Foram encontradas {len(rows_data)} entradas duplicadas.\")   \n",
    "        "
   ]
  },
  {
   "cell_type": "code",
   "execution_count": 8,
   "id": "3ca631dd",
   "metadata": {},
   "outputs": [
    {
     "data": {
      "text/html": [
       "<div>\n",
       "<style scoped>\n",
       "    .dataframe tbody tr th:only-of-type {\n",
       "        vertical-align: middle;\n",
       "    }\n",
       "\n",
       "    .dataframe tbody tr th {\n",
       "        vertical-align: top;\n",
       "    }\n",
       "\n",
       "    .dataframe thead th {\n",
       "        text-align: right;\n",
       "    }\n",
       "</style>\n",
       "<table border=\"1\" class=\"dataframe\">\n",
       "  <thead>\n",
       "    <tr style=\"text-align: right;\">\n",
       "      <th></th>\n",
       "      <th>CustomerId</th>\n",
       "      <th>Surname</th>\n",
       "      <th>CreditScore</th>\n",
       "      <th>Geography</th>\n",
       "      <th>Gender</th>\n",
       "      <th>Age</th>\n",
       "      <th>Tenure</th>\n",
       "      <th>Balance</th>\n",
       "      <th>NumOfProducts</th>\n",
       "      <th>HasCrCard</th>\n",
       "      <th>IsActiveMember</th>\n",
       "      <th>EstimatedSalary</th>\n",
       "      <th>Exited</th>\n",
       "      <th>Complain</th>\n",
       "      <th>Satisfaction Score</th>\n",
       "      <th>Card Type</th>\n",
       "      <th>Point Earned</th>\n",
       "    </tr>\n",
       "  </thead>\n",
       "  <tbody>\n",
       "    <tr>\n",
       "      <th>0</th>\n",
       "      <td>15634602</td>\n",
       "      <td>Hargrave</td>\n",
       "      <td>619</td>\n",
       "      <td>France</td>\n",
       "      <td>Female</td>\n",
       "      <td>42</td>\n",
       "      <td>2</td>\n",
       "      <td>0.00</td>\n",
       "      <td>1</td>\n",
       "      <td>1</td>\n",
       "      <td>1</td>\n",
       "      <td>101348.88</td>\n",
       "      <td>1</td>\n",
       "      <td>1</td>\n",
       "      <td>2</td>\n",
       "      <td>DIAMOND</td>\n",
       "      <td>464</td>\n",
       "    </tr>\n",
       "    <tr>\n",
       "      <th>1</th>\n",
       "      <td>15647311</td>\n",
       "      <td>Hill</td>\n",
       "      <td>608</td>\n",
       "      <td>Spain</td>\n",
       "      <td>Female</td>\n",
       "      <td>41</td>\n",
       "      <td>1</td>\n",
       "      <td>83807.86</td>\n",
       "      <td>1</td>\n",
       "      <td>0</td>\n",
       "      <td>1</td>\n",
       "      <td>112542.58</td>\n",
       "      <td>0</td>\n",
       "      <td>1</td>\n",
       "      <td>3</td>\n",
       "      <td>DIAMOND</td>\n",
       "      <td>456</td>\n",
       "    </tr>\n",
       "    <tr>\n",
       "      <th>2</th>\n",
       "      <td>15619304</td>\n",
       "      <td>Onio</td>\n",
       "      <td>502</td>\n",
       "      <td>France</td>\n",
       "      <td>Female</td>\n",
       "      <td>42</td>\n",
       "      <td>8</td>\n",
       "      <td>159660.80</td>\n",
       "      <td>3</td>\n",
       "      <td>1</td>\n",
       "      <td>0</td>\n",
       "      <td>113931.57</td>\n",
       "      <td>1</td>\n",
       "      <td>1</td>\n",
       "      <td>3</td>\n",
       "      <td>DIAMOND</td>\n",
       "      <td>377</td>\n",
       "    </tr>\n",
       "    <tr>\n",
       "      <th>3</th>\n",
       "      <td>15701354</td>\n",
       "      <td>Boni</td>\n",
       "      <td>699</td>\n",
       "      <td>France</td>\n",
       "      <td>Female</td>\n",
       "      <td>39</td>\n",
       "      <td>1</td>\n",
       "      <td>0.00</td>\n",
       "      <td>2</td>\n",
       "      <td>0</td>\n",
       "      <td>0</td>\n",
       "      <td>93826.63</td>\n",
       "      <td>0</td>\n",
       "      <td>0</td>\n",
       "      <td>5</td>\n",
       "      <td>GOLD</td>\n",
       "      <td>350</td>\n",
       "    </tr>\n",
       "    <tr>\n",
       "      <th>4</th>\n",
       "      <td>15737888</td>\n",
       "      <td>Mitchell</td>\n",
       "      <td>850</td>\n",
       "      <td>Spain</td>\n",
       "      <td>Female</td>\n",
       "      <td>43</td>\n",
       "      <td>2</td>\n",
       "      <td>125510.82</td>\n",
       "      <td>1</td>\n",
       "      <td>1</td>\n",
       "      <td>1</td>\n",
       "      <td>79084.10</td>\n",
       "      <td>0</td>\n",
       "      <td>0</td>\n",
       "      <td>5</td>\n",
       "      <td>GOLD</td>\n",
       "      <td>425</td>\n",
       "    </tr>\n",
       "  </tbody>\n",
       "</table>\n",
       "</div>"
      ],
      "text/plain": [
       "   CustomerId   Surname  CreditScore Geography  Gender  Age  Tenure  \\\n",
       "0    15634602  Hargrave          619    France  Female   42       2   \n",
       "1    15647311      Hill          608     Spain  Female   41       1   \n",
       "2    15619304      Onio          502    France  Female   42       8   \n",
       "3    15701354      Boni          699    France  Female   39       1   \n",
       "4    15737888  Mitchell          850     Spain  Female   43       2   \n",
       "\n",
       "     Balance  NumOfProducts  HasCrCard  IsActiveMember  EstimatedSalary  \\\n",
       "0       0.00              1          1               1        101348.88   \n",
       "1   83807.86              1          0               1        112542.58   \n",
       "2  159660.80              3          1               0        113931.57   \n",
       "3       0.00              2          0               0         93826.63   \n",
       "4  125510.82              1          1               1         79084.10   \n",
       "\n",
       "   Exited  Complain  Satisfaction Score Card Type  Point Earned  \n",
       "0       1         1                   2   DIAMOND           464  \n",
       "1       0         1                   3   DIAMOND           456  \n",
       "2       1         1                   3   DIAMOND           377  \n",
       "3       0         0                   5      GOLD           350  \n",
       "4       0         0                   5      GOLD           425  "
      ]
     },
     "execution_count": 8,
     "metadata": {},
     "output_type": "execute_result"
    }
   ],
   "source": [
    "# Caso houvessem linhas duplicadas, seriam excluidas e impresso o novo conjunto de dados\n",
    "data = data.drop_duplicates()\n",
    "data.head()"
   ]
  },
  {
   "cell_type": "markdown",
   "id": "681a506f",
   "metadata": {},
   "source": [
    "## 2.4 Renomeando Títulos\n",
    "Nesta etapa, realizaremos a renomeação dos títulos das colunas para torná-los mais descritivos e facilitar o estudo e a compreensão dos dados.\n",
    "\n",
    "Isso nos ajudará a trabalhar com os dados de forma mais eficiente e compreensível em etapas posteriores da análise.\n"
   ]
  },
  {
   "cell_type": "code",
   "execution_count": 9,
   "id": "63fd029c",
   "metadata": {},
   "outputs": [
    {
     "data": {
      "text/html": [
       "<div>\n",
       "<style scoped>\n",
       "    .dataframe tbody tr th:only-of-type {\n",
       "        vertical-align: middle;\n",
       "    }\n",
       "\n",
       "    .dataframe tbody tr th {\n",
       "        vertical-align: top;\n",
       "    }\n",
       "\n",
       "    .dataframe thead th {\n",
       "        text-align: right;\n",
       "    }\n",
       "</style>\n",
       "<table border=\"1\" class=\"dataframe\">\n",
       "  <thead>\n",
       "    <tr style=\"text-align: right;\">\n",
       "      <th></th>\n",
       "      <th>ID</th>\n",
       "      <th>Sobrenome</th>\n",
       "      <th>PontuacaoCredito</th>\n",
       "      <th>Localizacao</th>\n",
       "      <th>Genero</th>\n",
       "      <th>Idade</th>\n",
       "      <th>TempoPermanencia</th>\n",
       "      <th>Saldo</th>\n",
       "      <th>Produtos</th>\n",
       "      <th>TemCartaoCredito</th>\n",
       "      <th>MembroAtivo</th>\n",
       "      <th>SalarioEstimado</th>\n",
       "      <th>Churn</th>\n",
       "      <th>Reclamacoes</th>\n",
       "      <th>IndiceSatisfacao</th>\n",
       "      <th>TipoCartao</th>\n",
       "      <th>PontosAcumulados</th>\n",
       "    </tr>\n",
       "  </thead>\n",
       "  <tbody>\n",
       "    <tr>\n",
       "      <th>0</th>\n",
       "      <td>15634602</td>\n",
       "      <td>Hargrave</td>\n",
       "      <td>619</td>\n",
       "      <td>France</td>\n",
       "      <td>Female</td>\n",
       "      <td>42</td>\n",
       "      <td>2</td>\n",
       "      <td>0.00</td>\n",
       "      <td>1</td>\n",
       "      <td>1</td>\n",
       "      <td>1</td>\n",
       "      <td>101348.88</td>\n",
       "      <td>1</td>\n",
       "      <td>1</td>\n",
       "      <td>2</td>\n",
       "      <td>DIAMOND</td>\n",
       "      <td>464</td>\n",
       "    </tr>\n",
       "    <tr>\n",
       "      <th>1</th>\n",
       "      <td>15647311</td>\n",
       "      <td>Hill</td>\n",
       "      <td>608</td>\n",
       "      <td>Spain</td>\n",
       "      <td>Female</td>\n",
       "      <td>41</td>\n",
       "      <td>1</td>\n",
       "      <td>83807.86</td>\n",
       "      <td>1</td>\n",
       "      <td>0</td>\n",
       "      <td>1</td>\n",
       "      <td>112542.58</td>\n",
       "      <td>0</td>\n",
       "      <td>1</td>\n",
       "      <td>3</td>\n",
       "      <td>DIAMOND</td>\n",
       "      <td>456</td>\n",
       "    </tr>\n",
       "    <tr>\n",
       "      <th>2</th>\n",
       "      <td>15619304</td>\n",
       "      <td>Onio</td>\n",
       "      <td>502</td>\n",
       "      <td>France</td>\n",
       "      <td>Female</td>\n",
       "      <td>42</td>\n",
       "      <td>8</td>\n",
       "      <td>159660.80</td>\n",
       "      <td>3</td>\n",
       "      <td>1</td>\n",
       "      <td>0</td>\n",
       "      <td>113931.57</td>\n",
       "      <td>1</td>\n",
       "      <td>1</td>\n",
       "      <td>3</td>\n",
       "      <td>DIAMOND</td>\n",
       "      <td>377</td>\n",
       "    </tr>\n",
       "    <tr>\n",
       "      <th>3</th>\n",
       "      <td>15701354</td>\n",
       "      <td>Boni</td>\n",
       "      <td>699</td>\n",
       "      <td>France</td>\n",
       "      <td>Female</td>\n",
       "      <td>39</td>\n",
       "      <td>1</td>\n",
       "      <td>0.00</td>\n",
       "      <td>2</td>\n",
       "      <td>0</td>\n",
       "      <td>0</td>\n",
       "      <td>93826.63</td>\n",
       "      <td>0</td>\n",
       "      <td>0</td>\n",
       "      <td>5</td>\n",
       "      <td>GOLD</td>\n",
       "      <td>350</td>\n",
       "    </tr>\n",
       "    <tr>\n",
       "      <th>4</th>\n",
       "      <td>15737888</td>\n",
       "      <td>Mitchell</td>\n",
       "      <td>850</td>\n",
       "      <td>Spain</td>\n",
       "      <td>Female</td>\n",
       "      <td>43</td>\n",
       "      <td>2</td>\n",
       "      <td>125510.82</td>\n",
       "      <td>1</td>\n",
       "      <td>1</td>\n",
       "      <td>1</td>\n",
       "      <td>79084.10</td>\n",
       "      <td>0</td>\n",
       "      <td>0</td>\n",
       "      <td>5</td>\n",
       "      <td>GOLD</td>\n",
       "      <td>425</td>\n",
       "    </tr>\n",
       "  </tbody>\n",
       "</table>\n",
       "</div>"
      ],
      "text/plain": [
       "         ID Sobrenome  PontuacaoCredito Localizacao  Genero  Idade  \\\n",
       "0  15634602  Hargrave               619      France  Female     42   \n",
       "1  15647311      Hill               608       Spain  Female     41   \n",
       "2  15619304      Onio               502      France  Female     42   \n",
       "3  15701354      Boni               699      France  Female     39   \n",
       "4  15737888  Mitchell               850       Spain  Female     43   \n",
       "\n",
       "   TempoPermanencia      Saldo  Produtos  TemCartaoCredito  MembroAtivo  \\\n",
       "0                 2       0.00         1                 1            1   \n",
       "1                 1   83807.86         1                 0            1   \n",
       "2                 8  159660.80         3                 1            0   \n",
       "3                 1       0.00         2                 0            0   \n",
       "4                 2  125510.82         1                 1            1   \n",
       "\n",
       "   SalarioEstimado  Churn  Reclamacoes  IndiceSatisfacao TipoCartao  \\\n",
       "0        101348.88      1            1                 2    DIAMOND   \n",
       "1        112542.58      0            1                 3    DIAMOND   \n",
       "2        113931.57      1            1                 3    DIAMOND   \n",
       "3         93826.63      0            0                 5       GOLD   \n",
       "4         79084.10      0            0                 5       GOLD   \n",
       "\n",
       "   PontosAcumulados  \n",
       "0               464  \n",
       "1               456  \n",
       "2               377  \n",
       "3               350  \n",
       "4               425  "
      ]
     },
     "execution_count": 9,
     "metadata": {},
     "output_type": "execute_result"
    }
   ],
   "source": [
    "# Alterando nome das Colunas\n",
    "data = data.rename(columns={\"CustomerId\": \"ID\",\n",
    "                            \"Surname\": \"Sobrenome\",\n",
    "                            \"CreditScore\": \"PontuacaoCredito\", \n",
    "                            \"Geography\": \"Localizacao\", \n",
    "                            \"Gender\": \"Genero\",\n",
    "                            \"Age\": \"Idade\",\n",
    "                            \"Tenure\": \"TempoPermanencia\",\n",
    "                            \"Balance\": \"Saldo\",\n",
    "                            \"NumOfProducts\": \"Produtos\",\n",
    "                            \"HasCrCard\": \"TemCartaoCredito\",\n",
    "                            \"IsActiveMember\": \"MembroAtivo\",\n",
    "                            \"EstimatedSalary\": \"SalarioEstimado\",\n",
    "                            \"Exited\": \"Churn\",\n",
    "                            \"Complain\": \"Reclamacoes\",\n",
    "                            \"Satisfaction Score\": \"IndiceSatisfacao\",\n",
    "                            \"Card Type\": \"TipoCartao\",\n",
    "                            \"Point Earned\": \"PontosAcumulados\"})\n",
    "data.head()"
   ]
  },
  {
   "cell_type": "markdown",
   "id": "5a5ee980",
   "metadata": {},
   "source": [
    "## 2.5 Exclusão de Colunas Desnecessárias\n",
    "\n",
    "Nesta etapa, procederemos com a exclusão de colunas que são consideradas desnecessárias para nossa análise. A exclusão de colunas que não são relevantes ou não contribuem para nossos objetivos pode simplificar o conjunto de dados e tornar nossa análise mais eficiente.\n",
    "\n",
    "Após a exclusão, atualizaremos o conjunto de dados resultante para refletir a nova estrutura.\n",
    "\n",
    "\n"
   ]
  },
  {
   "cell_type": "code",
   "execution_count": 10,
   "id": "694f9d97",
   "metadata": {},
   "outputs": [
    {
     "data": {
      "text/html": [
       "<div>\n",
       "<style scoped>\n",
       "    .dataframe tbody tr th:only-of-type {\n",
       "        vertical-align: middle;\n",
       "    }\n",
       "\n",
       "    .dataframe tbody tr th {\n",
       "        vertical-align: top;\n",
       "    }\n",
       "\n",
       "    .dataframe thead th {\n",
       "        text-align: right;\n",
       "    }\n",
       "</style>\n",
       "<table border=\"1\" class=\"dataframe\">\n",
       "  <thead>\n",
       "    <tr style=\"text-align: right;\">\n",
       "      <th></th>\n",
       "      <th>PontuacaoCredito</th>\n",
       "      <th>Localizacao</th>\n",
       "      <th>Genero</th>\n",
       "      <th>Idade</th>\n",
       "      <th>TempoPermanencia</th>\n",
       "      <th>Saldo</th>\n",
       "      <th>Produtos</th>\n",
       "      <th>TemCartaoCredito</th>\n",
       "      <th>MembroAtivo</th>\n",
       "      <th>SalarioEstimado</th>\n",
       "      <th>Churn</th>\n",
       "      <th>Reclamacoes</th>\n",
       "      <th>IndiceSatisfacao</th>\n",
       "      <th>TipoCartao</th>\n",
       "      <th>PontosAcumulados</th>\n",
       "    </tr>\n",
       "  </thead>\n",
       "  <tbody>\n",
       "    <tr>\n",
       "      <th>0</th>\n",
       "      <td>619</td>\n",
       "      <td>France</td>\n",
       "      <td>Female</td>\n",
       "      <td>42</td>\n",
       "      <td>2</td>\n",
       "      <td>0.00</td>\n",
       "      <td>1</td>\n",
       "      <td>1</td>\n",
       "      <td>1</td>\n",
       "      <td>101348.88</td>\n",
       "      <td>1</td>\n",
       "      <td>1</td>\n",
       "      <td>2</td>\n",
       "      <td>DIAMOND</td>\n",
       "      <td>464</td>\n",
       "    </tr>\n",
       "    <tr>\n",
       "      <th>1</th>\n",
       "      <td>608</td>\n",
       "      <td>Spain</td>\n",
       "      <td>Female</td>\n",
       "      <td>41</td>\n",
       "      <td>1</td>\n",
       "      <td>83807.86</td>\n",
       "      <td>1</td>\n",
       "      <td>0</td>\n",
       "      <td>1</td>\n",
       "      <td>112542.58</td>\n",
       "      <td>0</td>\n",
       "      <td>1</td>\n",
       "      <td>3</td>\n",
       "      <td>DIAMOND</td>\n",
       "      <td>456</td>\n",
       "    </tr>\n",
       "    <tr>\n",
       "      <th>2</th>\n",
       "      <td>502</td>\n",
       "      <td>France</td>\n",
       "      <td>Female</td>\n",
       "      <td>42</td>\n",
       "      <td>8</td>\n",
       "      <td>159660.80</td>\n",
       "      <td>3</td>\n",
       "      <td>1</td>\n",
       "      <td>0</td>\n",
       "      <td>113931.57</td>\n",
       "      <td>1</td>\n",
       "      <td>1</td>\n",
       "      <td>3</td>\n",
       "      <td>DIAMOND</td>\n",
       "      <td>377</td>\n",
       "    </tr>\n",
       "    <tr>\n",
       "      <th>3</th>\n",
       "      <td>699</td>\n",
       "      <td>France</td>\n",
       "      <td>Female</td>\n",
       "      <td>39</td>\n",
       "      <td>1</td>\n",
       "      <td>0.00</td>\n",
       "      <td>2</td>\n",
       "      <td>0</td>\n",
       "      <td>0</td>\n",
       "      <td>93826.63</td>\n",
       "      <td>0</td>\n",
       "      <td>0</td>\n",
       "      <td>5</td>\n",
       "      <td>GOLD</td>\n",
       "      <td>350</td>\n",
       "    </tr>\n",
       "    <tr>\n",
       "      <th>4</th>\n",
       "      <td>850</td>\n",
       "      <td>Spain</td>\n",
       "      <td>Female</td>\n",
       "      <td>43</td>\n",
       "      <td>2</td>\n",
       "      <td>125510.82</td>\n",
       "      <td>1</td>\n",
       "      <td>1</td>\n",
       "      <td>1</td>\n",
       "      <td>79084.10</td>\n",
       "      <td>0</td>\n",
       "      <td>0</td>\n",
       "      <td>5</td>\n",
       "      <td>GOLD</td>\n",
       "      <td>425</td>\n",
       "    </tr>\n",
       "  </tbody>\n",
       "</table>\n",
       "</div>"
      ],
      "text/plain": [
       "   PontuacaoCredito Localizacao  Genero  Idade  TempoPermanencia      Saldo  \\\n",
       "0               619      France  Female     42                 2       0.00   \n",
       "1               608       Spain  Female     41                 1   83807.86   \n",
       "2               502      France  Female     42                 8  159660.80   \n",
       "3               699      France  Female     39                 1       0.00   \n",
       "4               850       Spain  Female     43                 2  125510.82   \n",
       "\n",
       "   Produtos  TemCartaoCredito  MembroAtivo  SalarioEstimado  Churn  \\\n",
       "0         1                 1            1        101348.88      1   \n",
       "1         1                 0            1        112542.58      0   \n",
       "2         3                 1            0        113931.57      1   \n",
       "3         2                 0            0         93826.63      0   \n",
       "4         1                 1            1         79084.10      0   \n",
       "\n",
       "   Reclamacoes  IndiceSatisfacao TipoCartao  PontosAcumulados  \n",
       "0            1                 2    DIAMOND               464  \n",
       "1            1                 3    DIAMOND               456  \n",
       "2            1                 3    DIAMOND               377  \n",
       "3            0                 5       GOLD               350  \n",
       "4            0                 5       GOLD               425  "
      ]
     },
     "execution_count": 10,
     "metadata": {},
     "output_type": "execute_result"
    }
   ],
   "source": [
    "# Excluindo colunas desnecessarias (Importante que este processo seja executado depois de exclusão de linhas duplicadas, uma vez que pode ter cliente com perfis semelhantes evitando que esses dados sejam suprimidos)\n",
    "data = data.drop(['ID', \n",
    "                  'Sobrenome'],\n",
    "                 axis=1)\n",
    "data.head()"
   ]
  },
  {
   "cell_type": "markdown",
   "id": "b1b3916a",
   "metadata": {},
   "source": [
    "## 2.6 Informações Gerais do Conjunto de Dados\n",
    "\n",
    "Nesta etapa, exploraremos informações gerais sobre o conjunto de dados para compreender sua estrutura e características. Isso nos ajudará a ter uma visão inicial dos dados com os quais estamos trabalhando."
   ]
  },
  {
   "cell_type": "code",
   "execution_count": 11,
   "id": "5b3930d7",
   "metadata": {},
   "outputs": [
    {
     "name": "stdout",
     "output_type": "stream",
     "text": [
      "<class 'pandas.core.frame.DataFrame'>\n",
      "Int64Index: 10000 entries, 0 to 9999\n",
      "Data columns (total 15 columns):\n",
      " #   Column            Non-Null Count  Dtype  \n",
      "---  ------            --------------  -----  \n",
      " 0   PontuacaoCredito  10000 non-null  int64  \n",
      " 1   Localizacao       10000 non-null  object \n",
      " 2   Genero            10000 non-null  object \n",
      " 3   Idade             10000 non-null  int64  \n",
      " 4   TempoPermanencia  10000 non-null  int64  \n",
      " 5   Saldo             10000 non-null  float64\n",
      " 6   Produtos          10000 non-null  int64  \n",
      " 7   TemCartaoCredito  10000 non-null  int64  \n",
      " 8   MembroAtivo       10000 non-null  int64  \n",
      " 9   SalarioEstimado   10000 non-null  float64\n",
      " 10  Churn             10000 non-null  int64  \n",
      " 11  Reclamacoes       10000 non-null  int64  \n",
      " 12  IndiceSatisfacao  10000 non-null  int64  \n",
      " 13  TipoCartao        10000 non-null  object \n",
      " 14  PontosAcumulados  10000 non-null  int64  \n",
      "dtypes: float64(2), int64(10), object(3)\n",
      "memory usage: 1.2+ MB\n"
     ]
    }
   ],
   "source": [
    "# Obter informações gerais do conjunto de dados\n",
    "data.info() "
   ]
  },
  {
   "cell_type": "markdown",
   "id": "8abc8f98",
   "metadata": {},
   "source": [
    "# 3. EDA (Análise Exploratória dos Dados)\n",
    "Após a conclusão do primeiro processo de tratamento e transformação do conjunto de dados, avançaremos para a etapa de Análise Exploratória dos Dados (EDA). Durante esta fase, examinaremos cada variável individualmente para identificar seu valor para o estudo. Além disso, faremos uma análise comparativa entre cada variável e a variável alvo \"Churn,\" que é o foco principal de nosso estudo.\n",
    "        "
   ]
  },
  {
   "cell_type": "markdown",
   "id": "80c8d7d6",
   "metadata": {},
   "source": [
    "## 3.1 Análise Individual das Variáveis\n",
    "\n",
    "Começaremos a análise exploratória examinando cada variável separadamente. Isso inclui:\n",
    "\n",
    "- Cálculo de estatísticas descritivas, como média, mediana e desvio padrão para variáveis numéricas.\n",
    "- Criação de gráficos e visualizações relevantes para cada tipo de variável (numérica, categórica, temporal).\n",
    "- Identificação de tendências, padrões ou características únicas em cada variável."
   ]
  },
  {
   "cell_type": "markdown",
   "id": "0ae5451c",
   "metadata": {},
   "source": [
    "### 3.1.2 Pontuação de Crédito"
   ]
  },
  {
   "cell_type": "markdown",
   "id": "43cb4e0b",
   "metadata": {},
   "source": [
    "* Estatísticas descritivas da variável"
   ]
  },
  {
   "cell_type": "code",
   "execution_count": 12,
   "id": "b6fea1cf",
   "metadata": {},
   "outputs": [
    {
     "data": {
      "text/plain": [
       "count    10000.000000\n",
       "mean       650.528800\n",
       "std         96.653299\n",
       "min        350.000000\n",
       "25%        584.000000\n",
       "50%        652.000000\n",
       "75%        718.000000\n",
       "max        850.000000\n",
       "Name: PontuacaoCredito, dtype: float64"
      ]
     },
     "execution_count": 12,
     "metadata": {},
     "output_type": "execute_result"
    }
   ],
   "source": [
    "# Resumo dos dados da variável Pontuação de Crédito\n",
    "data['PontuacaoCredito'].describe()"
   ]
  },
  {
   "cell_type": "code",
   "execution_count": 13,
   "id": "5dac8169",
   "metadata": {},
   "outputs": [
    {
     "data": {
      "image/png": "[encoded data removed]",
      "text/plain": [
       "<Figure size 1152x432 with 1 Axes>"
      ]
     },
     "metadata": {},
     "output_type": "display_data"
    }
   ],
   "source": [
    "# Histograma para visualizar a distribuição da Pontuação de Crédito\n",
    "plt.figure(figsize=(16, 6))\n",
    "sns.histplot(data['PontuacaoCredito'], bins=30, kde=True)\n",
    "plt.title('Distribuição da Pontuação de Crédito')\n",
    "plt.xlabel('Pontuação de Crédito')\n",
    "plt.ylabel('Frequência')\n",
    "plt.show()"
   ]
  },
  {
   "cell_type": "code",
   "execution_count": 15,
   "id": "e16b1111",
   "metadata": {},
   "outputs": [
    {
     "data": {
      "image/png": "[encoded data removed]",
      "text/plain": [
       "<Figure size 1152x144 with 1 Axes>"
      ]
     },
     "metadata": {},
     "output_type": "display_data"
    }
   ],
   "source": [
    "# Criando um Boxplot para a variável \"Pontuação de Crédito\"\n",
    "sns.set(style=\"whitegrid\")\n",
    "\n",
    "plt.figure(figsize=(16, 2))\n",
    "sns.boxplot(x='PontuacaoCredito', data=data)\n",
    "plt.title('Box Plot da Pontuação de Crédito')\n",
    "plt.xlabel('Pontuação de Crédito')\n",
    "plt.show()"
   ]
  },
  {
   "cell_type": "code",
   "execution_count": 14,
   "id": "532ec3e6",
   "metadata": {
    "scrolled": true
   },
   "outputs": [
    {
     "data": {
      "text/plain": [
       "651 - 700    1947\n",
       "601 - 650    1871\n",
       "701 - 750    1518\n",
       "551 - 600    1445\n",
       "501 - 550     978\n",
       "751 - 800     953\n",
       "801 - 850     645\n",
       "451 - 500     454\n",
       "401 - 450     170\n",
       "351 - 400      14\n",
       "301 - 350       5\n",
       "Name: PontuacaoCredito_grupo, dtype: int64"
      ]
     },
     "execution_count": 14,
     "metadata": {},
     "output_type": "execute_result"
    }
   ],
   "source": [
    "# Definir os rótulos dos grupos\n",
    "labels = [\"{0} - {1}\".format(i, i + 49) for i in range(301, 850, 50)]\n",
    "\n",
    "# Criar uma nova coluna \"PontuacaoCredito_grupo\" com base nos intervalos\n",
    "data['PontuacaoCredito_grupo'] =  pd.cut(data.PontuacaoCredito,\n",
    "                                        bins=range(301, 901, 50),\n",
    "                                        right=False,\n",
    "                                        labels=labels)\n",
    "\n",
    "# Verificando os dados da nova coluna\n",
    "data['PontuacaoCredito_grupo'].value_counts()"
   ]
  },
  {
   "cell_type": "code",
   "execution_count": 26,
   "id": "5f8c2dc8",
   "metadata": {},
   "outputs": [
    {
     "name": "stdout",
     "output_type": "stream",
     "text": [
      "   PontuacaoCredito_grupo  Não Churn  Churn  Total  Freq Não Churn  Freq Churn\n",
      "0               301 - 350          0      5      5        0.000000  100.000000\n",
      "1               351 - 400          0     14     14        0.000000  100.000000\n",
      "2               401 - 450        128     42    170       75.294118   24.705882\n",
      "3               451 - 500        363     91    454       79.955947   20.044053\n",
      "4               501 - 550        762    216    978       77.914110   22.085890\n",
      "5               551 - 600       1148    297   1445       79.446367   20.553633\n",
      "6               601 - 650       1479    392   1871       79.048637   20.951363\n",
      "7               651 - 700       1586    361   1947       81.458654   18.541346\n",
      "8               701 - 750       1212    306   1518       79.841897   20.158103\n",
      "9               751 - 800        766    187    953       80.377754   19.622246\n",
      "10              801 - 850        518    127    645       80.310078   19.689922\n"
     ]
    }
   ],
   "source": [
    "# Agrupar os dados por PontuacaoCredito_grupo e contar as ocorrências de Churn e Não Churn\n",
    "grouped_PontCredito = data.groupby('PontuacaoCredito_grupo')['Churn'].value_counts().unstack(fill_value=0)\n",
    "\n",
    "# Calcular percentuais de Churn e Não Churn\n",
    "grouped_PontCredito['Total'] = grouped_PontCredito[0] + grouped_PontCredito[1]\n",
    "grouped_PontCredito['Não_Churn_Percent'] = (grouped_PontCredito[0] / grouped_PontCredito['Total']) * 100\n",
    "grouped_PontCredito['Churn_Percent'] = (grouped_PontCredito[1] / grouped_PontCredito['Total']) * 100\n",
    "\n",
    "# Renomear as colunas\n",
    "grouped_PontCredito.columns = ['Não Churn', 'Churn', 'Total', 'Freq Não Churn', 'Freq Churn']\n",
    "\n",
    "# Resetar o índice para ter 'PontuacaoCredito_grupo' como uma coluna\n",
    "grouped_PontCredito.reset_index(inplace=True)\n",
    "\n",
    "# Exibir a tabela\n",
    "print(grouped_PontCredito)"
   ]
  },
  {
   "cell_type": "code",
   "execution_count": 66,
   "id": "bbcb3d01",
   "metadata": {},
   "outputs": [
    {
     "data": {
      "image/png": "[encoded data removed]",
      "text/plain": [
       "<Figure size 864x432 with 1 Axes>"
      ]
     },
     "metadata": {},
     "output_type": "display_data"
    }
   ],
   "source": [
    "# Agrupar os dados por PontuacaoCredito_grupo e Churn e contar as ocorrências\n",
    "grouped_PontCredito = data.groupby(['PontuacaoCredito_grupo', 'Churn']).size().unstack(fill_value=0)\n",
    "\n",
    "# Definir os rótulos das categorias e a largura das barras\n",
    "categories = grouped_PontCredito.index\n",
    "x = np.arange(len(categories))\n",
    "width = 0.4\n",
    "\n",
    "# Criar o gráfico de barras agrupadas\n",
    "fig, ax = plt.subplots(figsize = (12, 6))\n",
    "for i, (churn_label, color) in enumerate(zip([0, 1], ['darkblue', 'tomato'])):\n",
    "    values = grouped_PontCredito[churn_label].values\n",
    "    ax.bar(x + i * width, values, width, label=churn_label, color=color)\n",
    "\n",
    "# Personalizar o gráfico\n",
    "ax.set_xlabel('Pontuação de Crédito')\n",
    "ax.set_ylabel('Quantidade')\n",
    "ax.set_title('Churn por Pontuação de Crédito')\n",
    "ax.set_xticks(x + width / 2)\n",
    "ax.set_xticklabels(categories, rotation=0)\n",
    "\n",
    "# Adicionar legenda\n",
    "legend_labels = ['Não Churn', 'Churn']\n",
    "ax.legend((legend_labels), title='Churn')\n",
    "\n",
    "plt.tight_layout()\n",
    "plt.show()\n"
   ]
  },
  {
   "cell_type": "code",
   "execution_count": 69,
   "id": "e144967e",
   "metadata": {},
   "outputs": [
    {
     "data": {
      "image/png": "[encoded data removed]",
      "text/plain": [
       "<Figure size 1152x360 with 2 Axes>"
      ]
     },
     "metadata": {},
     "output_type": "display_data"
    }
   ],
   "source": [
    "# Box plot da Pontuação de Crédito para clientes Churn e não-Churn\n",
    "sns.set(style=\"whitegrid\")\n",
    "\n",
    "# Definindo os limites para equalizações dos boxplot\n",
    "lim_min_pontcredito = min(data['PontuacaoCredito'])\n",
    "lim_max_pontcredito = max(data['PontuacaoCredito'])\n",
    "\n",
    "fig, axes = plt.subplots(nrows=2, ncols=1, figsize=(16, 5))\n",
    "\n",
    "# Box plot 1 (Clientes Churn)\n",
    "sns.boxplot(ax=axes[0], x='PontuacaoCredito', data=data[data['Churn'] == 1])\n",
    "axes[0].set_title('Clientes Churn')\n",
    "\n",
    "# Definir limites iguais para os eixos x\n",
    "axes[0].set_xlim(lim_min_pontcredito, lim_max_pontcredito)\n",
    "\n",
    "# Box plot 2 (Clientes Não Churn)\n",
    "sns.boxplot(ax=axes[1], x='PontuacaoCredito', data=data[data['Churn'] == 0])\n",
    "axes[1].set_title('Clientes Não Churn')\n",
    "\n",
    "# Definir limites iguais para os eixos x\n",
    "axes[1].set_xlim(lim_min_pontcredito, lim_max_pontcredito)\n",
    "\n",
    "# Ajustar o layout\n",
    "plt.tight_layout()\n",
    "\n",
    "# Exibir o gráfico\n",
    "plt.show()"
   ]
  },
  {
   "cell_type": "markdown",
   "id": "cc208a99",
   "metadata": {},
   "source": [
    "### 3.1.3 Localização"
   ]
  },
  {
   "cell_type": "markdown",
   "id": "b57f6de1",
   "metadata": {},
   "source": [
    "* Estatísticas descritivas da variável"
   ]
  },
  {
   "cell_type": "code",
   "execution_count": 100,
   "id": "c92d97c8",
   "metadata": {},
   "outputs": [
    {
     "data": {
      "text/plain": [
       "count      10000\n",
       "unique         3\n",
       "top       France\n",
       "freq        5014\n",
       "Name: Localizacao, dtype: object"
      ]
     },
     "execution_count": 100,
     "metadata": {},
     "output_type": "execute_result"
    }
   ],
   "source": [
    "# Resumo dos dados da variável Localização\n",
    "data['Localizacao'].describe()"
   ]
  },
  {
   "cell_type": "code",
   "execution_count": 81,
   "id": "be6d1bf4",
   "metadata": {},
   "outputs": [
    {
     "name": "stdout",
     "output_type": "stream",
     "text": [
      "      País  Clientes\n",
      "0   France      5014\n",
      "1  Germany      2509\n",
      "2    Spain      2477\n",
      "3    Total     10000\n"
     ]
    }
   ],
   "source": [
    "# Contando a quantidade de clientes por país\n",
    "clientes_localizacao = data['Localizacao'].value_counts()\n",
    "\n",
    "# Criando um DataFrame a partir dos valores contados\n",
    "tb_localizacao = pd.DataFrame({'País': clientes_localizacao.index, \n",
    "                               'Clientes': clientes_localizacao.values})\n",
    "\n",
    "# Adicionando uma linha de total ao DataFrame\n",
    "total_clientes = tb_localizacao['Clientes'].sum()\n",
    "linha_total = pd.DataFrame({'País': ['Total'], \n",
    "                            'Clientes': [total_clientes]})\n",
    "tb_localizacao = pd.concat([tb_localizacao, linha_total], ignore_index=True)\n",
    "\n",
    "# Exibindo a tabeçla\n",
    "print(tb_localizacao)"
   ]
  },
  {
   "cell_type": "code",
   "execution_count": 91,
   "id": "c69d990b",
   "metadata": {},
   "outputs": [
    {
     "data": {
      "image/png": "[encoded data removed]",
      "text/plain": [
       "<Figure size 576x432 with 1 Axes>"
      ]
     },
     "metadata": {},
     "output_type": "display_data"
    }
   ],
   "source": [
    "# Contagem de frequência dos países\n",
    "frequencia_paises = data['Localizacao'].value_counts()\n",
    "\n",
    "# Gráfico de barras\n",
    "plt.figure(figsize=(8, 6))\n",
    "sns.barplot(x=frequencia_paises.index, \n",
    "            y=frequencia_paises.values, \n",
    "            color='#657BA6')\n",
    "plt.xlabel('País')\n",
    "plt.ylabel('Frequência')\n",
    "plt.title('Distribuição dos Clientes por País')\n",
    "\n",
    "# Adicionando os rótulos de dados\n",
    "for index, value in enumerate(frequencia_paises.values):\n",
    "    plt.text(index, value, str(value), ha='center', va='bottom')\n",
    "\n",
    "plt.show()"
   ]
  },
  {
   "cell_type": "code",
   "execution_count": 92,
   "id": "17577887",
   "metadata": {},
   "outputs": [
    {
     "name": "stdout",
     "output_type": "stream",
     "text": [
      "  Localizacao  Não Churn  Churn  Total  Freq Não Churn  Freq Churn\n",
      "0      France       4203    811   5014       83.825289   16.174711\n",
      "1     Germany       1695    814   2509       67.556796   32.443204\n",
      "2       Spain       2064    413   2477       83.326605   16.673395\n"
     ]
    }
   ],
   "source": [
    "# Agrupar os dados por localização e contar as ocorrências de Churn e Não Churn\n",
    "grouped_Localizacao = data.groupby('Localizacao')['Churn'].value_counts().unstack(fill_value=0)\n",
    "\n",
    "# Calcular percentuais de Churn e Não Churn\n",
    "grouped_Localizacao['Total'] = grouped_Localizacao[0] + grouped_Localizacao[1]\n",
    "grouped_Localizacao['Não_Churn_Percent'] = (grouped_Localizacao[0] / grouped_Localizacao['Total']) * 100\n",
    "grouped_Localizacao['Churn_Percent'] = (grouped_Localizacao[1] / grouped_Localizacao['Total']) * 100\n",
    "\n",
    "# Renomear as colunas\n",
    "grouped_Localizacao.columns = ['Não Churn', 'Churn', 'Total', 'Freq Não Churn', 'Freq Churn']\n",
    "\n",
    "# Resetar o índice para ter 'PontuacaoCredito_grupo' como uma coluna\n",
    "grouped_Localizacao.reset_index(inplace=True)\n",
    "\n",
    "# Exibir a tabela\n",
    "print(grouped_Localizacao)"
   ]
  },
  {
   "cell_type": "code",
   "execution_count": 106,
   "id": "a0c3fcbf",
   "metadata": {},
   "outputs": [
    {
     "data": {
      "image/png": "[encoded data removed]",
      "text/plain": [
       "<Figure size 864x432 with 1 Axes>"
      ]
     },
     "metadata": {},
     "output_type": "display_data"
    }
   ],
   "source": [
    "# Agrupar os dados por PontuacaoCredito_grupo e Churn e contar as ocorrências\n",
    "grouped_Localizacao = data.groupby(['Localizacao', 'Churn']).size().unstack(fill_value=0)\n",
    "\n",
    "# Definir os rótulos das categorias e a largura das barras\n",
    "categories = grouped_Localizacao.index\n",
    "x = np.arange(len(categories))\n",
    "width = 0.4\n",
    "\n",
    "# Criar o gráfico de barras agrupadas\n",
    "fig, ax = plt.subplots(figsize = (12, 6))\n",
    "for i, (churn_label, color) in enumerate(zip([0, 1], ['darkblue', 'tomato'])):\n",
    "    values = grouped_Localizacao[churn_label].values\n",
    "    ax.bar(x + i * width, values, width, label=churn_label, color=color)\n",
    "\n",
    "# Personalizar o gráfico\n",
    "ax.set_xlabel('País')\n",
    "ax.set_ylabel('Quantidade')\n",
    "ax.set_title('Churn por Localização')\n",
    "ax.set_xticks(x + width / 2)\n",
    "ax.set_xticklabels(categories, rotation=0)\n",
    "\n",
    "# Adicionar legenda\n",
    "legend_labels = ['Não Churn', 'Churn']\n",
    "ax.legend((legend_labels), title='Churn')\n",
    "\n",
    "plt.tight_layout()\n",
    "plt.show()"
   ]
  },
  {
   "cell_type": "code",
   "execution_count": 99,
   "id": "ef86a959",
   "metadata": {},
   "outputs": [
    {
     "data": {
      "image/png": "[encoded data removed]",
      "text/plain": [
       "<Figure size 576x432 with 1 Axes>"
      ]
     },
     "metadata": {},
     "output_type": "display_data"
    }
   ],
   "source": [
    "# Contagem de churn por país\n",
    "churn_por_pais = data.groupby('Localizacao')['Churn'].mean()\n",
    "\n",
    "# Gráfico de barras empilhadas\n",
    "plt.figure(figsize=(8, 6))\n",
    "sns.barplot(x=churn_por_pais.index, y=churn_por_pais.values, color='#657BA6')\n",
    "plt.xlabel('País')\n",
    "plt.ylabel('Taxa de Churn')\n",
    "plt.title('Taxa de Churn por País')\n",
    "plt.show()\n"
   ]
  },
  {
   "cell_type": "code",
   "execution_count": null,
   "id": "8f5327bb",
   "metadata": {},
   "outputs": [],
   "source": []
  },
  {
   "cell_type": "code",
   "execution_count": null,
   "id": "eded973a",
   "metadata": {},
   "outputs": [],
   "source": []
  },
  {
   "cell_type": "markdown",
   "id": "38aa5af5",
   "metadata": {},
   "source": [
    "### 3.1.4 Genero"
   ]
  },
  {
   "cell_type": "markdown",
   "id": "d11baed6",
   "metadata": {},
   "source": [
    "* Estatísticas descritivas da variável"
   ]
  },
  {
   "cell_type": "code",
   "execution_count": 29,
   "id": "19140ba7",
   "metadata": {},
   "outputs": [
    {
     "data": {
      "text/plain": [
       "count     10000\n",
       "unique        2\n",
       "top        Male\n",
       "freq       5457\n",
       "Name: Genero, dtype: object"
      ]
     },
     "execution_count": 29,
     "metadata": {},
     "output_type": "execute_result"
    }
   ],
   "source": [
    "# Resumo dos dados da variável Genero\n",
    "data['Genero'].describe()"
   ]
  },
  {
   "cell_type": "code",
   "execution_count": 166,
   "id": "87cc9b58",
   "metadata": {},
   "outputs": [
    {
     "name": "stdout",
     "output_type": "stream",
     "text": [
      "   Gênero  Clientes\n",
      "0    Male      5457\n",
      "1  Female      4543\n",
      "2   Total     10000\n"
     ]
    }
   ],
   "source": [
    "# Contando a quantidade de clientes por país\n",
    "clientes_genero = data['Genero'].value_counts()\n",
    "\n",
    "# Criando um DataFrame a partir dos valores contados\n",
    "tb_genero = pd.DataFrame({'Gênero': clientes_genero.index, \n",
    "                          'Clientes': clientes_genero.values})\n",
    "\n",
    "# Adicionando uma linha de total ao DataFrame\n",
    "total_clientes = tb_genero['Clientes'].sum()\n",
    "linha_total = pd.DataFrame({'Gênero': ['Total'], \n",
    "                            'Clientes': [total_clientes]})\n",
    "tb_genero = pd.concat([tb_genero, linha_total], ignore_index=True)\n",
    "\n",
    "# Exibindo a tabeçla\n",
    "print(tb_genero)"
   ]
  },
  {
   "cell_type": "code",
   "execution_count": 167,
   "id": "b280be63",
   "metadata": {},
   "outputs": [
    {
     "data": {
      "image/png": "[encoded data removed]",
      "text/plain": [
       "<Figure size 576x432 with 1 Axes>"
      ]
     },
     "metadata": {},
     "output_type": "display_data"
    }
   ],
   "source": [
    "# Contagem de frequência dos gênero\n",
    "frequencia_genero = data['Genero'].value_counts()\n",
    "\n",
    "# Gráfico de barras\n",
    "plt.figure(figsize=(8, 6))\n",
    "sns.barplot(x=frequencia_genero.index, \n",
    "            y=frequencia_genero.values, \n",
    "            color='#657BA6')\n",
    "plt.xlabel('Gênero')\n",
    "plt.ylabel('Frequência')\n",
    "plt.title('Distribuição dos Clientes por Gênero')\n",
    "\n",
    "# Adicionando os rótulos de dados\n",
    "for index, value in enumerate(frequencia_genero.values):\n",
    "    plt.text(index, value, str(value), ha='center', va='bottom')\n",
    "\n",
    "plt.show()"
   ]
  },
  {
   "cell_type": "code",
   "execution_count": 105,
   "id": "7945701d",
   "metadata": {},
   "outputs": [
    {
     "name": "stdout",
     "output_type": "stream",
     "text": [
      "   Genero  Não Churn  Churn  Total  Freq Não Churn  Freq Churn\n",
      "0  Female       3404   1139   4543       74.928461   25.071539\n",
      "1    Male       4558    899   5457       83.525747   16.474253\n"
     ]
    }
   ],
   "source": [
    "# Agrupar os dados por genero e contar as ocorrências de Churn e Não Churn\n",
    "grouped_genero = data.groupby('Genero')['Churn'].value_counts().unstack(fill_value=0)\n",
    "\n",
    "# Calcular percentuais de Churn e Não Churn\n",
    "grouped_genero['Total'] = grouped_genero[0] + grouped_genero[1]\n",
    "grouped_genero['Não_Churn_Percent'] = (grouped_genero[0] / grouped_genero['Total']) * 100\n",
    "grouped_genero['Churn_Percent'] = (grouped_genero[1] / grouped_genero['Total']) * 100\n",
    "\n",
    "# Renomear as colunas\n",
    "grouped_genero.columns = ['Não Churn', 'Churn', 'Total', 'Freq Não Churn', 'Freq Churn']\n",
    "\n",
    "# Resetar o índice para ter 'PontuacaoCredito_grupo' como uma coluna\n",
    "grouped_genero.reset_index(inplace=True)\n",
    "\n",
    "# Exibir a tabela\n",
    "print(grouped_genero)"
   ]
  },
  {
   "cell_type": "code",
   "execution_count": 107,
   "id": "01acbb1e",
   "metadata": {},
   "outputs": [
    {
     "data": {
      "image/png": "[encoded data removed]",
      "text/plain": [
       "<Figure size 864x432 with 1 Axes>"
      ]
     },
     "metadata": {},
     "output_type": "display_data"
    }
   ],
   "source": [
    "# Agrupar os dados por Genero e Churn e contar as ocorrências\n",
    "grouped_genero = data.groupby(['Genero', 'Churn']).size().unstack(fill_value=0)\n",
    "\n",
    "# Definir os rótulos das categorias e a largura das barras\n",
    "categories = grouped_genero.index\n",
    "x = np.arange(len(categories))\n",
    "width = 0.4\n",
    "\n",
    "# Criar o gráfico de barras agrupadas\n",
    "fig, ax = plt.subplots(figsize = (12, 6))\n",
    "for i, (churn_label, color) in enumerate(zip([0, 1], ['darkblue', 'tomato'])):\n",
    "    values = grouped_genero[churn_label].values\n",
    "    ax.bar(x + i * width, values, width, label=churn_label, color=color)\n",
    "\n",
    "# Personalizar o gráfico\n",
    "ax.set_xlabel('Genero')\n",
    "ax.set_ylabel('Quantidade')\n",
    "ax.set_title('Churn por Genero')\n",
    "ax.set_xticks(x + width / 2)\n",
    "ax.set_xticklabels(categories, rotation=0)\n",
    "\n",
    "# Adicionar legenda\n",
    "legend_labels = ['Não Churn', 'Churn']\n",
    "ax.legend((legend_labels), title='Churn')\n",
    "\n",
    "plt.tight_layout()\n",
    "plt.show()"
   ]
  },
  {
   "cell_type": "code",
   "execution_count": null,
   "id": "c06ed9d0",
   "metadata": {},
   "outputs": [],
   "source": []
  },
  {
   "cell_type": "code",
   "execution_count": null,
   "id": "0dbd3d48",
   "metadata": {},
   "outputs": [],
   "source": []
  },
  {
   "cell_type": "markdown",
   "id": "889b3c03",
   "metadata": {},
   "source": [
    "### 3.1.5 Idade\n"
   ]
  },
  {
   "cell_type": "markdown",
   "id": "1a4d6901",
   "metadata": {},
   "source": [
    "* Estatísticas descritivas da variável"
   ]
  },
  {
   "cell_type": "code",
   "execution_count": 30,
   "id": "7bb79b06",
   "metadata": {},
   "outputs": [
    {
     "data": {
      "text/plain": [
       "count    10000.000000\n",
       "mean        38.921800\n",
       "std         10.487806\n",
       "min         18.000000\n",
       "25%         32.000000\n",
       "50%         37.000000\n",
       "75%         44.000000\n",
       "max         92.000000\n",
       "Name: Idade, dtype: float64"
      ]
     },
     "execution_count": 30,
     "metadata": {},
     "output_type": "execute_result"
    }
   ],
   "source": [
    "# Resumo dos dados da variável Idade\n",
    "data['Idade'].describe()"
   ]
  },
  {
   "cell_type": "code",
   "execution_count": 109,
   "id": "487c753e",
   "metadata": {},
   "outputs": [
    {
     "data": {
      "image/png": "[encoded data removed]",
      "text/plain": [
       "<Figure size 1152x432 with 1 Axes>"
      ]
     },
     "metadata": {},
     "output_type": "display_data"
    }
   ],
   "source": [
    "# Histograma para visualizar a distribuição da Idade\n",
    "plt.figure(figsize=(16, 6))\n",
    "sns.histplot(data['Idade'], bins=30, kde=True)\n",
    "plt.title('Distribuição da Idade')\n",
    "plt.xlabel('Idade')\n",
    "plt.ylabel('Frequência')\n",
    "plt.show()"
   ]
  },
  {
   "cell_type": "code",
   "execution_count": 110,
   "id": "3e745c3d",
   "metadata": {},
   "outputs": [
    {
     "data": {
      "image/png": "[encoded data removed]",
      "text/plain": [
       "<Figure size 1152x144 with 1 Axes>"
      ]
     },
     "metadata": {},
     "output_type": "display_data"
    }
   ],
   "source": [
    "# Criando um Boxplot para a variável \"Idade\"\n",
    "sns.set(style=\"whitegrid\")\n",
    "\n",
    "plt.figure(figsize=(16, 2))\n",
    "sns.boxplot(x='Idade', data=data)\n",
    "plt.title('Box Plot da Idade')\n",
    "plt.xlabel('Idade')\n",
    "plt.show()"
   ]
  },
  {
   "cell_type": "code",
   "execution_count": 136,
   "id": "d5558005",
   "metadata": {},
   "outputs": [
    {
     "data": {
      "text/plain": [
       "31 - 40     4451\n",
       "41 - 50     2320\n",
       "21 - 30     1879\n",
       "51 - 60      797\n",
       "61 - 70      331\n",
       "71 - 80      121\n",
       "11 - 20       89\n",
       "81 - 90       10\n",
       "91 - 100       2\n",
       "Name: Idade_grupo, dtype: int64"
      ]
     },
     "execution_count": 136,
     "metadata": {},
     "output_type": "execute_result"
    }
   ],
   "source": [
    "# Definir os rótulos dos grupos\n",
    "labels = [\"{0} - {1}\".format(i, i + 9) \n",
    "          for i in range(11, 101, 10)]\n",
    "\n",
    "# Criar uma nova coluna \"Idade_grupo\" com base nos intervalos\n",
    "data['Idade_grupo'] =  pd.cut(data.Idade,\n",
    "                              bins=range(11, 102, 10),\n",
    "                              right=False,\n",
    "                              labels=labels)\n",
    "\n",
    "# Verificando os dados da nova coluna\n",
    "data['Idade_grupo'].value_counts()\n"
   ]
  },
  {
   "cell_type": "code",
   "execution_count": 137,
   "id": "ccd872ef",
   "metadata": {},
   "outputs": [
    {
     "name": "stdout",
     "output_type": "stream",
     "text": [
      "  Idade_grupo  Não Churn  Churn  Total  Freq Não Churn  Freq Churn\n",
      "0     11 - 20         84      5     89       94.382022    5.617978\n",
      "1     21 - 30       1736    143   1879       92.389569    7.610431\n",
      "2     31 - 40       3912    539   4451       87.890362   12.109638\n",
      "3     41 - 50       1532    788   2320       66.034483   33.965517\n",
      "4     51 - 60        349    448    797       43.789210   56.210790\n",
      "5     61 - 70        227    104    331       68.580060   31.419940\n",
      "6     71 - 80        111     10    121       91.735537    8.264463\n",
      "7     81 - 90          9      1     10       90.000000   10.000000\n",
      "8    91 - 100          2      0      2      100.000000    0.000000\n"
     ]
    }
   ],
   "source": [
    "# Agrupar os dados por PontuacaoCredito_grupo e contar as ocorrências de Churn e Não Churn\n",
    "grouped_Idade = data.groupby('Idade_grupo')['Churn'].value_counts().unstack(fill_value=0)\n",
    "\n",
    "# Calcular percentuais de Churn e Não Churn\n",
    "grouped_Idade['Total'] = grouped_Idade[0] + grouped_Idade[1]\n",
    "grouped_Idade['Não_Churn_Percent'] = (grouped_Idade[0] / grouped_Idade['Total']) * 100\n",
    "grouped_Idade['Churn_Percent'] = (grouped_Idade[1] / grouped_Idade['Total']) * 100\n",
    "\n",
    "# Renomear as colunas\n",
    "grouped_Idade.columns = ['Não Churn', 'Churn', 'Total', 'Freq Não Churn', 'Freq Churn']\n",
    "\n",
    "# Resetar o índice para ter 'PontuacaoCredito_grupo' como uma coluna\n",
    "grouped_Idade.reset_index(inplace=True)\n",
    "\n",
    "# Exibir a tabela\n",
    "print(grouped_Idade)"
   ]
  },
  {
   "cell_type": "code",
   "execution_count": 138,
   "id": "7288af66",
   "metadata": {},
   "outputs": [
    {
     "data": {
      "image/png": "[encoded data removed]",
      "text/plain": [
       "<Figure size 864x432 with 1 Axes>"
      ]
     },
     "metadata": {},
     "output_type": "display_data"
    }
   ],
   "source": [
    "# Agrupar os dados por PontuacaoCredito_grupo e Churn e contar as ocorrências\n",
    "grouped_Idade = data.groupby(['Idade_grupo', 'Churn']).size().unstack(fill_value=0)\n",
    "\n",
    "# Definir os rótulos das categorias e a largura das barras\n",
    "categories = grouped_Idade.index\n",
    "x = np.arange(len(categories))\n",
    "width = 0.4\n",
    "\n",
    "# Criar o gráfico de barras agrupadas\n",
    "fig, ax = plt.subplots(figsize = (12, 6))\n",
    "for i, (churn_label, color) in enumerate(zip([0, 1], ['darkblue', 'tomato'])):\n",
    "    values = grouped_Idade[churn_label].values\n",
    "    ax.bar(x + i * width, values, width, label=churn_label, color=color)\n",
    "\n",
    "# Personalizar o gráfico\n",
    "ax.set_xlabel('Idade')\n",
    "ax.set_ylabel('Quantidade')\n",
    "ax.set_title('Churn por Idade')\n",
    "ax.set_xticks(x + width / 2)\n",
    "ax.set_xticklabels(categories, rotation=0)\n",
    "\n",
    "# Adicionar legenda\n",
    "legend_labels = ['Não Churn', 'Churn']\n",
    "ax.legend((legend_labels), title='Churn')\n",
    "\n",
    "plt.tight_layout()\n",
    "plt.show()"
   ]
  },
  {
   "cell_type": "code",
   "execution_count": 153,
   "id": "4a0ff44f",
   "metadata": {},
   "outputs": [
    {
     "data": {
      "image/png": "[encoded data removed]",
      "text/plain": [
       "<Figure size 1152x360 with 2 Axes>"
      ]
     },
     "metadata": {},
     "output_type": "display_data"
    }
   ],
   "source": [
    "# Box plot da Pontuação de Crédito para clientes Churn e não-Churn\n",
    "sns.set(style=\"whitegrid\")\n",
    "\n",
    "# Definindo os limites para equalizações dos boxplot\n",
    "lim_min_pontcredito = math.floor(min(data['Idade'])/ 10) * 10\n",
    "lim_max_pontcredito = math.ceil(max(data['Idade']) / 10) * 10\n",
    "\n",
    "fig, axes = plt.subplots(nrows=2, ncols=1, figsize=(16, 5))\n",
    "\n",
    "# Box plot 1 (Clientes Churn)\n",
    "sns.boxplot(ax=axes[0], x='Idade', data=data[data['Churn'] == 1])\n",
    "axes[0].set_title('Clientes Churn')\n",
    "\n",
    "# Definir limites iguais para os eixos x\n",
    "axes[0].set_xlim(lim_min_pontcredito, lim_max_pontcredito)\n",
    "\n",
    "# Box plot 2 (Clientes Não Churn)\n",
    "sns.boxplot(ax=axes[1], x='Idade', data=data[data['Churn'] == 0])\n",
    "axes[1].set_title('Clientes Não Churn')\n",
    "\n",
    "# Definir limites iguais para os eixos x\n",
    "axes[1].set_xlim(lim_min_pontcredito, lim_max_pontcredito)\n",
    "\n",
    "# Ajustar o layout\n",
    "plt.tight_layout()\n",
    "\n",
    "# Exibir o gráfico\n",
    "plt.show()"
   ]
  },
  {
   "cell_type": "markdown",
   "id": "5baac5a2",
   "metadata": {},
   "source": [
    "### 3.1.6 Tempo Permanência\n"
   ]
  },
  {
   "cell_type": "markdown",
   "id": "1249b27e",
   "metadata": {},
   "source": [
    "* Estatísticas descritivas da variável"
   ]
  },
  {
   "cell_type": "code",
   "execution_count": 31,
   "id": "1aab8eaf",
   "metadata": {},
   "outputs": [
    {
     "data": {
      "text/plain": [
       "count    10000.000000\n",
       "mean         5.012800\n",
       "std          2.892174\n",
       "min          0.000000\n",
       "25%          3.000000\n",
       "50%          5.000000\n",
       "75%          7.000000\n",
       "max         10.000000\n",
       "Name: TempoPermanencia, dtype: float64"
      ]
     },
     "execution_count": 31,
     "metadata": {},
     "output_type": "execute_result"
    }
   ],
   "source": [
    "# Resumo dos dados da variável do Tempo de Permanência\n",
    "data['TempoPermanencia'].describe()"
   ]
  },
  {
   "cell_type": "code",
   "execution_count": 170,
   "id": "28416bc6",
   "metadata": {},
   "outputs": [
    {
     "name": "stdout",
     "output_type": "stream",
     "text": [
      "   Tempo Permanência (Anos)  Clientes\n",
      "0                         2      1048\n",
      "1                         1      1035\n",
      "2                         7      1028\n",
      "3                         8      1025\n",
      "4                         5      1012\n",
      "5                         3      1009\n",
      "6                         4       989\n",
      "7                         9       984\n",
      "8                         6       967\n",
      "9                        10       490\n",
      "10                        0       413\n",
      "11                    Total     10000\n"
     ]
    }
   ],
   "source": [
    "# Contando a quantidade de clientes por país\n",
    "clientes_permanencia = data['TempoPermanencia'].value_counts()\n",
    "\n",
    "# Criando um DataFrame a partir dos valores contados\n",
    "tb_permanencia = pd.DataFrame({'Tempo Permanência (Anos)': clientes_permanencia.index, \n",
    "                               'Clientes': clientes_permanencia.values})\n",
    "\n",
    "# Adicionando uma linha de total ao DataFrame\n",
    "total_clientes = tb_permanencia['Clientes'].sum()\n",
    "linha_total = pd.DataFrame({'Tempo Permanência (Anos)': ['Total'], \n",
    "                            'Clientes': [total_clientes]})\n",
    "tb_permanencia = pd.concat([tb_permanencia, linha_total], ignore_index=True)\n",
    "\n",
    "# Exibindo a tabeçla\n",
    "print(tb_permanencia)"
   ]
  },
  {
   "cell_type": "code",
   "execution_count": 178,
   "id": "e56a75f2",
   "metadata": {},
   "outputs": [
    {
     "data": {
      "image/png": "[encoded data removed]",
      "text/plain": [
       "<Figure size 1152x432 with 1 Axes>"
      ]
     },
     "metadata": {},
     "output_type": "display_data"
    }
   ],
   "source": [
    "# Ordenando a série de frequência pelo índice (Tempo de Permanência)\n",
    "frequencia_permanencia = frequencia_permanencia.sort_index()\n",
    "\n",
    "# Gráfico de barras\n",
    "plt.figure(figsize=(16, 6))\n",
    "sns.barplot(x=frequencia_permanencia.index, \n",
    "            y=frequencia_permanencia.values, \n",
    "            color='#657BA6')\n",
    "plt.xlabel('Tempo de Permanência (Anos)')\n",
    "plt.ylabel('Frequência')\n",
    "plt.title('Distribuição do Tempo de Permanência')\n",
    "\n",
    "# Adicionando os rótulos de dados com alinhamento correto\n",
    "for index, value in enumerate(frequencia_permanencia.values):\n",
    "    plt.text(index, value, str(value), ha='center', va='bottom')\n",
    "\n",
    "plt.show()"
   ]
  },
  {
   "cell_type": "code",
   "execution_count": 181,
   "id": "1129e117",
   "metadata": {},
   "outputs": [
    {
     "name": "stdout",
     "output_type": "stream",
     "text": [
      "    TempoPermanencia  Não Churn  Churn  Total  Freq Não Churn  Freq Churn\n",
      "0                  0        318     95    413       76.997579   23.002421\n",
      "1                  1        803    232   1035       77.584541   22.415459\n",
      "2                  2        847    201   1048       80.820611   19.179389\n",
      "3                  3        796    213   1009       78.889990   21.110010\n",
      "4                  4        786    203    989       79.474216   20.525784\n",
      "5                  5        803    209   1012       79.347826   20.652174\n",
      "6                  6        771    196    967       79.731127   20.268873\n",
      "7                  7        851    177   1028       82.782101   17.217899\n",
      "8                  8        828    197   1025       80.780488   19.219512\n",
      "9                  9        770    214    984       78.252033   21.747967\n",
      "10                10        389    101    490       79.387755   20.612245\n"
     ]
    }
   ],
   "source": [
    "# Agrupar os dados por PontuacaoCredito_grupo e contar as ocorrências de Churn e Não Churn\n",
    "grouped_permanencia = data.groupby('TempoPermanencia')['Churn'].value_counts().unstack(fill_value=0)\n",
    "\n",
    "# Calcular percentuais de Churn e Não Churn\n",
    "grouped_permanencia['Total'] = grouped_permanencia[0] + grouped_permanencia[1]\n",
    "grouped_permanencia['Não_Churn_Percent'] = (grouped_permanencia[0] / grouped_permanencia['Total']) * 100\n",
    "grouped_permanencia['Churn_Percent'] = (grouped_permanencia[1] / grouped_permanencia['Total']) * 100\n",
    "\n",
    "# Renomear as colunas\n",
    "grouped_permanencia.columns = ['Não Churn', 'Churn', 'Total', 'Freq Não Churn', 'Freq Churn']\n",
    "\n",
    "# Resetar o índice para ter 'PontuacaoCredito_grupo' como uma coluna\n",
    "grouped_permanencia.reset_index(inplace=True)\n",
    "\n",
    "# Exibir a tabela\n",
    "print(grouped_permanencia)"
   ]
  },
  {
   "cell_type": "code",
   "execution_count": 188,
   "id": "da3a49bf",
   "metadata": {},
   "outputs": [
    {
     "data": {
      "image/png": "[encoded data removed]",
      "text/plain": [
       "<Figure size 864x432 with 1 Axes>"
      ]
     },
     "metadata": {},
     "output_type": "display_data"
    }
   ],
   "source": [
    "# Agrupar os dados por PontuacaoCredito_grupo e Churn e contar as ocorrências\n",
    "grouped_permanencia = data.groupby(['TempoPermanencia', 'Churn']).size().unstack(fill_value=0)\n",
    "\n",
    "# Definir os rótulos das categorias e a largura das barras\n",
    "categories = grouped_permanencia.index\n",
    "x = np.arange(len(categories))\n",
    "width = 0.4\n",
    "\n",
    "# Criar o gráfico de barras agrupadas\n",
    "fig, ax = plt.subplots(figsize = (12, 6))\n",
    "for i, (churn_label, color) in enumerate(zip([0, 1], ['darkblue', 'tomato'])):\n",
    "    values = grouped_permanencia[churn_label].values\n",
    "    ax.bar(x + i * width, values, width, label=churn_label, color=color)\n",
    "\n",
    "# Personalizar o gráfico\n",
    "ax.set_xlabel('Tempo de Permanência')\n",
    "ax.set_ylabel('Quantidade')\n",
    "ax.set_title('Churn por Tempo de Permanência')\n",
    "ax.set_xticks(x + width / 2)\n",
    "ax.set_xticklabels(categories, rotation=0)\n",
    "\n",
    "# Adicionar legenda\n",
    "legend_labels = ['Não Churn', 'Churn']\n",
    "ax.legend((legend_labels), title='Churn')\n",
    "\n",
    "plt.tight_layout()\n",
    "plt.show()"
   ]
  },
  {
   "cell_type": "code",
   "execution_count": null,
   "id": "36837577",
   "metadata": {},
   "outputs": [],
   "source": []
  },
  {
   "cell_type": "code",
   "execution_count": null,
   "id": "23bab71b",
   "metadata": {},
   "outputs": [],
   "source": []
  },
  {
   "cell_type": "code",
   "execution_count": null,
   "id": "3a013c5e",
   "metadata": {},
   "outputs": [],
   "source": []
  },
  {
   "cell_type": "markdown",
   "id": "50940a5b",
   "metadata": {},
   "source": [
    "### 3.1.7 Saldo em Conta\n"
   ]
  },
  {
   "cell_type": "markdown",
   "id": "164b17f8",
   "metadata": {},
   "source": [
    "* Estatísticas descritivas da variável"
   ]
  },
  {
   "cell_type": "code",
   "execution_count": 32,
   "id": "33a20068",
   "metadata": {},
   "outputs": [
    {
     "data": {
      "text/plain": [
       "count     10000.000000\n",
       "mean      76485.889288\n",
       "std       62397.405202\n",
       "min           0.000000\n",
       "25%           0.000000\n",
       "50%       97198.540000\n",
       "75%      127644.240000\n",
       "max      250898.090000\n",
       "Name: Saldo, dtype: float64"
      ]
     },
     "execution_count": 32,
     "metadata": {},
     "output_type": "execute_result"
    }
   ],
   "source": [
    "# Resumo dos dados da variável Saldo em Conta\n",
    "data['Saldo'].describe()"
   ]
  },
  {
   "cell_type": "code",
   "execution_count": 189,
   "id": "1a092307",
   "metadata": {},
   "outputs": [
    {
     "data": {
      "image/png": "[encoded data removed]",
      "text/plain": [
       "<Figure size 1152x432 with 1 Axes>"
      ]
     },
     "metadata": {},
     "output_type": "display_data"
    }
   ],
   "source": [
    "# Histograma para visualizar a distribuição da Pontuação de Crédito\n",
    "plt.figure(figsize=(16, 6))\n",
    "sns.histplot(data['Saldo'], bins=30, kde=True)\n",
    "plt.title('Distribuição do Saldo em COnta')\n",
    "plt.xlabel('Saldo em Conta')\n",
    "plt.ylabel('Frequência')\n",
    "plt.show()"
   ]
  },
  {
   "cell_type": "code",
   "execution_count": 192,
   "id": "64bf20b4",
   "metadata": {},
   "outputs": [
    {
     "data": {
      "image/png": "[encoded data removed]",
      "text/plain": [
       "<Figure size 1152x144 with 1 Axes>"
      ]
     },
     "metadata": {},
     "output_type": "display_data"
    }
   ],
   "source": [
    "# Criando um Boxplot para a variável \"Pontuação de Crédito\"\n",
    "sns.set(style=\"whitegrid\")\n",
    "\n",
    "plt.figure(figsize=(16, 2))\n",
    "sns.boxplot(x='Saldo', data=data)\n",
    "plt.title('Box Plot do Saldo em Conta')\n",
    "plt.xlabel('Saldo em Conta')\n",
    "plt.show()"
   ]
  },
  {
   "cell_type": "code",
   "execution_count": 205,
   "id": "2b4961c6",
   "metadata": {},
   "outputs": [
    {
     "data": {
      "text/plain": [
       "0 - 24999          3623\n",
       "100000 - 124999    2068\n",
       "125000 - 149999    1762\n",
       "75000 - 99999      1160\n",
       "150000 - 174999     738\n",
       "50000 - 74999       349\n",
       "175000 - 199999     197\n",
       "25000 - 49999        69\n",
       "200000 - 224999      32\n",
       "225000 - 249999       1\n",
       "250000 - 274999       1\n",
       "Name: Saldo_grupo, dtype: int64"
      ]
     },
     "execution_count": 205,
     "metadata": {},
     "output_type": "execute_result"
    }
   ],
   "source": [
    "# Definir os rótulos dos grupos\n",
    "labels = [\"{0} - {1}\".format(i, i + 24999) \n",
    "          for i in range(0, 275000, 25000)]\n",
    "\n",
    "# Criar uma nova coluna \"Saldo_grupo\" com base nos intervalos\n",
    "data['Saldo_grupo'] = pd.cut(data.Saldo,\n",
    "                             bins=range(0, 275001, 25000),\n",
    "                             right=False,\n",
    "                             labels=labels)\n",
    "\n",
    "# Verificando os dados da nova coluna\n",
    "data['Saldo_grupo'].value_counts()"
   ]
  },
  {
   "cell_type": "code",
   "execution_count": 206,
   "id": "3e29da98",
   "metadata": {},
   "outputs": [
    {
     "name": "stdout",
     "output_type": "stream",
     "text": [
      "        Saldo_grupo  Não Churn  Churn  Total  Freq Não Churn  Freq Churn\n",
      "0         0 - 24999       3119    504   3623       86.088877   13.911123\n",
      "1     25000 - 49999         47     22     69       68.115942   31.884058\n",
      "2     50000 - 74999        274     75    349       78.510029   21.489971\n",
      "3     75000 - 99999        934    226   1160       80.517241   19.482759\n",
      "4   100000 - 124999       1510    558   2068       73.017408   26.982592\n",
      "5   125000 - 149999       1333    429   1762       75.652667   24.347333\n",
      "6   150000 - 174999        582    156    738       78.861789   21.138211\n",
      "7   175000 - 199999        148     49    197       75.126904   24.873096\n",
      "8   200000 - 224999         15     17     32       46.875000   53.125000\n",
      "9   225000 - 249999          0      1      1        0.000000  100.000000\n",
      "10  250000 - 274999          0      1      1        0.000000  100.000000\n"
     ]
    }
   ],
   "source": [
    "# Agrupar os dados por PontuacaoCredito_grupo e contar as ocorrências de Churn e Não Churn\n",
    "grouped_saldo = data.groupby('Saldo_grupo')['Churn'].value_counts().unstack(fill_value=0)\n",
    "\n",
    "# Calcular percentuais de Churn e Não Churn\n",
    "grouped_saldo['Total'] = grouped_saldo[0] + grouped_saldo[1]\n",
    "grouped_saldo['Não_Churn_Percent'] = (grouped_saldo[0] / grouped_saldo['Total']) * 100\n",
    "grouped_saldo['Churn_Percent'] = (grouped_saldo[1] / grouped_saldo['Total']) * 100\n",
    "\n",
    "# Renomear as colunas\n",
    "grouped_saldo.columns = ['Não Churn', 'Churn', 'Total', 'Freq Não Churn', 'Freq Churn']\n",
    "\n",
    "# Resetar o índice para ter 'PontuacaoCredito_grupo' como uma coluna\n",
    "grouped_saldo.reset_index(inplace=True)\n",
    "\n",
    "# Exibir a tabela\n",
    "print(grouped_saldo)"
   ]
  },
  {
   "cell_type": "code",
   "execution_count": 209,
   "id": "3e7f1ec6",
   "metadata": {},
   "outputs": [
    {
     "data": {
      "image/png": "[encoded data removed]",
      "text/plain": [
       "<Figure size 864x432 with 1 Axes>"
      ]
     },
     "metadata": {},
     "output_type": "display_data"
    }
   ],
   "source": [
    "# Agrupar os dados por PontuacaoCredito_grupo e Churn e contar as ocorrências\n",
    "grouped_saldo = data.groupby(['Saldo_grupo', 'Churn']).size().unstack(fill_value=0)\n",
    "\n",
    "# Definir os rótulos das categorias e a largura das barras\n",
    "categories = grouped_saldo.index\n",
    "x = np.arange(len(categories))\n",
    "width = 0.4\n",
    "\n",
    "# Criar o gráfico de barras agrupadas\n",
    "fig, ax = plt.subplots(figsize = (12, 6))\n",
    "for i, (churn_label, color) in enumerate(zip([0, 1], ['darkblue', 'tomato'])):\n",
    "    values = grouped_saldo[churn_label].values\n",
    "    ax.bar(x + i * width, values, width, label=churn_label, color=color)\n",
    "\n",
    "# Personalizar o gráfico\n",
    "ax.set_xlabel('Pontuação de Crédito')\n",
    "ax.set_ylabel('Quantidade')\n",
    "ax.set_title('Churn por Pontuação de Crédito')\n",
    "ax.set_xticks(x + width / 2)\n",
    "ax.set_xticklabels(categories, rotation=50)\n",
    "\n",
    "# Adicionar legenda\n",
    "legend_labels = ['Não Churn', 'Churn']\n",
    "ax.legend((legend_labels), title='Churn')\n",
    "\n",
    "plt.tight_layout()\n",
    "plt.show()"
   ]
  },
  {
   "cell_type": "code",
   "execution_count": null,
   "id": "a3836be4",
   "metadata": {},
   "outputs": [],
   "source": []
  },
  {
   "cell_type": "markdown",
   "id": "6fb45083",
   "metadata": {},
   "source": [
    "### 3.1.8 Tem Cartão de Crédito?\n"
   ]
  },
  {
   "cell_type": "markdown",
   "id": "026db5b0",
   "metadata": {},
   "source": [
    "* Estatísticas descritivas da variável"
   ]
  },
  {
   "cell_type": "code",
   "execution_count": 33,
   "id": "72c67e12",
   "metadata": {},
   "outputs": [
    {
     "data": {
      "text/plain": [
       "count    10000.00000\n",
       "mean         0.70550\n",
       "std          0.45584\n",
       "min          0.00000\n",
       "25%          0.00000\n",
       "50%          1.00000\n",
       "75%          1.00000\n",
       "max          1.00000\n",
       "Name: TemCartaoCredito, dtype: float64"
      ]
     },
     "execution_count": 33,
     "metadata": {},
     "output_type": "execute_result"
    }
   ],
   "source": [
    "# Resumo dos dados da variável Tem Cartão de Crédito?\n",
    "data['TemCartaoCredito'].describe()"
   ]
  },
  {
   "cell_type": "code",
   "execution_count": 215,
   "id": "ae2ccc69",
   "metadata": {},
   "outputs": [
    {
     "name": "stdout",
     "output_type": "stream",
     "text": [
      "  Tem Cartão?  Clientes\n",
      "0      Possui      7055\n",
      "1  Não Possui      2945\n",
      "2       Total     10000\n"
     ]
    }
   ],
   "source": [
    "# Contando a quantidade de clientes com e sem cartão de crédito\n",
    "clientes_cartao = data['TemCartaoCredito'].value_counts()\n",
    "\n",
    "# Substituindo os valores 0 e 1 pelos rótulos correspondentes\n",
    "clientes_cartao.index = clientes_cartao.index.map({0: 'Não Possui', 1: 'Possui'})\n",
    "\n",
    "# Criando um DataFrame a partir dos valores contados\n",
    "tb_cartao = pd.DataFrame({'Tem Cartão?': clientes_cartao.index, \n",
    "                          'Clientes': clientes_cartao.values})\n",
    "\n",
    "# Adicionando uma linha de total ao DataFrame\n",
    "total_clientes = tb_cartao['Clientes'].sum()\n",
    "linha_total = pd.DataFrame({'Tem Cartão?': ['Total'], \n",
    "                            'Clientes': [total_clientes]})\n",
    "tb_cartao = pd.concat([tb_cartao, linha_total], ignore_index=True)\n",
    "\n",
    "# Exibindo a tabela\n",
    "print(tb_cartao)"
   ]
  },
  {
   "cell_type": "code",
   "execution_count": 218,
   "id": "a3d880de",
   "metadata": {},
   "outputs": [
    {
     "data": {
      "image/png": "[encoded data removed]",
      "text/plain": [
       "<Figure size 576x432 with 1 Axes>"
      ]
     },
     "metadata": {},
     "output_type": "display_data"
    }
   ],
   "source": [
    "# Contagem de frequência dos gênero\n",
    "frequencia_cartao = data['TemCartaoCredito'].value_counts()\n",
    "\n",
    "# Substituindo os valores 0 e 1 pelos rótulos correspondentes\n",
    "frequencia_cartao.index = frequencia_cartao.index.map({0: 'Não Possui', 1: 'Possui'})\n",
    "\n",
    "# Gráfico de barras\n",
    "plt.figure(figsize=(8, 6))\n",
    "sns.barplot(x=frequencia_cartao.index, \n",
    "            y=frequencia_cartao.values, \n",
    "            color='#657BA6')\n",
    "plt.xlabel('Gênero')\n",
    "plt.ylabel('Frequência')\n",
    "plt.title('Distribuição dos Clientes por Gênero')\n",
    "\n",
    "# Adicionando os rótulos de dados\n",
    "for index, value in enumerate(frequencia_cartao.values):\n",
    "    plt.text(index, value, str(value), ha='center', va='bottom')\n",
    "\n",
    "plt.show()"
   ]
  },
  {
   "cell_type": "code",
   "execution_count": 220,
   "id": "5eae5846",
   "metadata": {},
   "outputs": [
    {
     "name": "stdout",
     "output_type": "stream",
     "text": [
      "  TemCartaoCredito  Não Churn  Churn  Total  Freq Não Churn  Freq Churn\n",
      "0       Não Possui       2332    613   2945       79.185059   20.814941\n",
      "1           Possui       5630   1425   7055       79.801559   20.198441\n"
     ]
    }
   ],
   "source": [
    "# Agrupar os dados por genero e contar as ocorrências de Churn e Não Churn\n",
    "grouped_cartao = data.groupby('TemCartaoCredito')['Churn'].value_counts().unstack(fill_value=0)\n",
    "\n",
    "# Substituindo os valores 0 e 1 pelos rótulos correspondentes\n",
    "grouped_cartao.index = grouped_cartao.index.map({0: 'Não Possui', 1: 'Possui'})\n",
    "\n",
    "# Calcular percentuais de Churn e Não Churn\n",
    "grouped_cartao['Total'] = grouped_cartao[0] + grouped_cartao[1]\n",
    "grouped_cartao['Não_Churn_Percent'] = (grouped_cartao[0] / grouped_cartao['Total']) * 100\n",
    "grouped_cartao['Churn_Percent'] = (grouped_cartao[1] / grouped_cartao['Total']) * 100\n",
    "\n",
    "# Renomear as colunas\n",
    "grouped_cartao.columns = ['Não Churn', 'Churn', 'Total', 'Freq Não Churn', 'Freq Churn']\n",
    "\n",
    "# Resetar o índice para ter 'PontuacaoCredito_grupo' como uma coluna\n",
    "grouped_cartao.reset_index(inplace=True)\n",
    "\n",
    "# Exibir a tabela\n",
    "print(grouped_cartao)"
   ]
  },
  {
   "cell_type": "code",
   "execution_count": 222,
   "id": "4a6748ea",
   "metadata": {},
   "outputs": [
    {
     "data": {
      "image/png": "[encoded data removed]",
      "text/plain": [
       "<Figure size 576x432 with 1 Axes>"
      ]
     },
     "metadata": {},
     "output_type": "display_data"
    }
   ],
   "source": [
    "# Agrupar os dados por genero e contar as ocorrências de Churn e Não Churn\n",
    "grouped_cartao = data.groupby('TemCartaoCredito')['Churn'].value_counts().unstack(fill_value=0)\n",
    "\n",
    "# Substituindo os valores 0 e 1 pelos rótulos correspondentes\n",
    "grouped_cartao.index = grouped_cartao.index.map({0: 'Não Possui', 1: 'Possui'})\n",
    "\n",
    "# Definir os rótulos das categorias e a largura das barras\n",
    "categories = grouped_cartao.index\n",
    "x = np.arange(len(categories))\n",
    "width = 0.4\n",
    "\n",
    "# Criar o gráfico de barras agrupadas\n",
    "fig, ax = plt.subplots(figsize = (8, 6))\n",
    "for i, (churn_label, color) in enumerate(zip([0, 1], ['darkblue', 'tomato'])):\n",
    "    values = grouped_cartao[churn_label].values\n",
    "    ax.bar(x + i * width, values, width, label=churn_label, color=color)\n",
    "\n",
    "# Personalizar o gráfico\n",
    "ax.set_xlabel('Genero')\n",
    "ax.set_ylabel('Quantidade')\n",
    "ax.set_title('Churn por Genero')\n",
    "ax.set_xticks(x + width / 2)\n",
    "ax.set_xticklabels(categories, rotation=0)\n",
    "\n",
    "# Adicionar legenda\n",
    "legend_labels = ['Não Churn', 'Churn']\n",
    "ax.legend((legend_labels), title='Churn')\n",
    "\n",
    "plt.tight_layout()\n",
    "plt.show()"
   ]
  },
  {
   "cell_type": "code",
   "execution_count": null,
   "id": "80d38287",
   "metadata": {},
   "outputs": [],
   "source": []
  },
  {
   "cell_type": "markdown",
   "id": "f0265e48",
   "metadata": {},
   "source": [
    "### 3.1.9 Membro Ativo\n"
   ]
  },
  {
   "cell_type": "markdown",
   "id": "54498ce2",
   "metadata": {},
   "source": [
    "* Estatísticas descritivas da variável"
   ]
  },
  {
   "cell_type": "code",
   "execution_count": 34,
   "id": "ec63dc03",
   "metadata": {},
   "outputs": [
    {
     "data": {
      "text/plain": [
       "count    10000.000000\n",
       "mean         0.515100\n",
       "std          0.499797\n",
       "min          0.000000\n",
       "25%          0.000000\n",
       "50%          1.000000\n",
       "75%          1.000000\n",
       "max          1.000000\n",
       "Name: MembroAtivo, dtype: float64"
      ]
     },
     "execution_count": 34,
     "metadata": {},
     "output_type": "execute_result"
    }
   ],
   "source": [
    "# Resumo dos dados da variável Membro Ativo\n",
    "data['MembroAtivo'].describe()"
   ]
  },
  {
   "cell_type": "code",
   "execution_count": 224,
   "id": "c6a9675e",
   "metadata": {},
   "outputs": [
    {
     "name": "stdout",
     "output_type": "stream",
     "text": [
      "  É cliente ativo?  Clientes\n",
      "0              Sim      5151\n",
      "1              Não      4849\n",
      "2            Total     10000\n"
     ]
    }
   ],
   "source": [
    "# Contando a quantidade de clientes com e sem cartão de crédito\n",
    "clientes_ativo = data['MembroAtivo'].value_counts()\n",
    "\n",
    "# Substituindo os valores 0 e 1 pelos rótulos correspondentes\n",
    "clientes_ativo.index = clientes_ativo.index.map({0: 'Não', 1: 'Sim'})\n",
    "\n",
    "# Criando um DataFrame a partir dos valores contados\n",
    "tb_ativo = pd.DataFrame({'É cliente ativo?': clientes_ativo.index, \n",
    "                          'Clientes': clientes_ativo.values})\n",
    "\n",
    "# Adicionando uma linha de total ao DataFrame\n",
    "total_clientes = tb_ativo['Clientes'].sum()\n",
    "linha_total = pd.DataFrame({'É cliente ativo?': ['Total'], \n",
    "                            'Clientes': [total_clientes]})\n",
    "tb_ativo = pd.concat([tb_ativo, linha_total], ignore_index=True)\n",
    "\n",
    "# Exibindo a tabela\n",
    "print(tb_ativo)"
   ]
  },
  {
   "cell_type": "code",
   "execution_count": 230,
   "id": "1efb6d0b",
   "metadata": {},
   "outputs": [
    {
     "data": {
      "image/png": "[encoded data removed]",
      "text/plain": [
       "<Figure size 576x432 with 1 Axes>"
      ]
     },
     "metadata": {},
     "output_type": "display_data"
    }
   ],
   "source": [
    "# Contagem de frequência dos gênero\n",
    "frequencia_ativo = data['MembroAtivo'].value_counts()\n",
    "\n",
    "# Substituindo os valores 0 e 1 pelos rótulos correspondentes\n",
    "frequencia_ativo.index = frequencia_ativo.index.map({0: 'Não', 1: 'Sim'})\n",
    "\n",
    "# Gráfico de barras\n",
    "plt.figure(figsize=(8, 6))\n",
    "sns.barplot(x=frequencia_ativo.index, \n",
    "            y=frequencia_ativo.values, \n",
    "            color='#657BA6')\n",
    "plt.xlabel('É cliente ativo?')\n",
    "plt.ylabel('Frequência')\n",
    "plt.title('Distribuição dos Clientes por Atvidade')\n",
    "\n",
    "# Adicionando os rótulos de dados\n",
    "for index, value in enumerate(frequencia_ativo.values):\n",
    "    plt.text(index, value, str(value), ha='center', va='bottom')\n",
    "\n",
    "plt.show()"
   ]
  },
  {
   "cell_type": "code",
   "execution_count": 232,
   "id": "b0ff09b8",
   "metadata": {},
   "outputs": [
    {
     "name": "stdout",
     "output_type": "stream",
     "text": [
      "  MembroAtivo  Não Churn  Churn  Total  Freq Não Churn  Freq Churn\n",
      "0         Não       3546   1303   4849       73.128480   26.871520\n",
      "1         Sim       4416    735   5151       85.730926   14.269074\n"
     ]
    }
   ],
   "source": [
    "# Agrupar os dados por genero e contar as ocorrências de Churn e Não Churn\n",
    "grouped_ativo = data.groupby('MembroAtivo')['Churn'].value_counts().unstack(fill_value=0)\n",
    "\n",
    "# Substituindo os valores 0 e 1 pelos rótulos correspondentes\n",
    "grouped_ativo.index = grouped_ativo.index.map({0: 'Não', 1: 'Sim'})\n",
    "\n",
    "# Calcular percentuais de Churn e Não Churn\n",
    "grouped_ativo['Total'] = grouped_ativo[0] + grouped_ativo[1]\n",
    "grouped_ativo['Não_Churn_Percent'] = (grouped_ativo[0] / grouped_ativo['Total']) * 100\n",
    "grouped_ativo['Churn_Percent'] = (grouped_ativo[1] / grouped_ativo['Total']) * 100\n",
    "\n",
    "# Renomear as colunas\n",
    "grouped_ativo.columns = ['Não Churn', 'Churn', 'Total', 'Freq Não Churn', 'Freq Churn']\n",
    "\n",
    "# Resetar o índice para ter 'PontuacaoCredito_grupo' como uma coluna\n",
    "grouped_ativo.reset_index(inplace=True)\n",
    "\n",
    "# Exibir a tabela\n",
    "print(grouped_ativo)"
   ]
  },
  {
   "cell_type": "code",
   "execution_count": 233,
   "id": "9abc4d41",
   "metadata": {},
   "outputs": [
    {
     "data": {
      "image/png": "[encoded data removed]",
      "text/plain": [
       "<Figure size 576x432 with 1 Axes>"
      ]
     },
     "metadata": {},
     "output_type": "display_data"
    }
   ],
   "source": [
    "# Agrupar os dados por genero e contar as ocorrências de Churn e Não Churn\n",
    "grouped_ativo = data.groupby('MembroAtivo')['Churn'].value_counts().unstack(fill_value=0)\n",
    "\n",
    "# Substituindo os valores 0 e 1 pelos rótulos correspondentes\n",
    "grouped_ativo.index = grouped_ativo.index.map({0: 'Não', 1: 'Sim'})\n",
    "\n",
    "# Definir os rótulos das categorias e a largura das barras\n",
    "categories = grouped_ativo.index\n",
    "x = np.arange(len(categories))\n",
    "width = 0.4\n",
    "\n",
    "# Criar o gráfico de barras agrupadas\n",
    "fig, ax = plt.subplots(figsize = (8, 6))\n",
    "for i, (churn_label, color) in enumerate(zip([0, 1], ['darkblue', 'tomato'])):\n",
    "    values = grouped_ativo[churn_label].values\n",
    "    ax.bar(x + i * width, values, width, label=churn_label, color=color)\n",
    "\n",
    "# Personalizar o gráfico\n",
    "ax.set_xlabel('Genero')\n",
    "ax.set_ylabel('Quantidade')\n",
    "ax.set_title('Churn por Genero')\n",
    "ax.set_xticks(x + width / 2)\n",
    "ax.set_xticklabels(categories, rotation=0)\n",
    "\n",
    "# Adicionar legenda\n",
    "legend_labels = ['Não Churn', 'Churn']\n",
    "ax.legend((legend_labels), title='Churn')\n",
    "\n",
    "plt.tight_layout()\n",
    "plt.show()\n"
   ]
  },
  {
   "cell_type": "code",
   "execution_count": null,
   "id": "727fa8c1",
   "metadata": {},
   "outputs": [],
   "source": []
  },
  {
   "cell_type": "code",
   "execution_count": null,
   "id": "e2130366",
   "metadata": {},
   "outputs": [],
   "source": []
  },
  {
   "cell_type": "markdown",
   "id": "77fc220e",
   "metadata": {},
   "source": [
    "### 3.1.10 Salário Estimado\n"
   ]
  },
  {
   "cell_type": "markdown",
   "id": "1e1c109f",
   "metadata": {},
   "source": [
    "* Estatísticas descritivas da variável"
   ]
  },
  {
   "cell_type": "code",
   "execution_count": 35,
   "id": "77dd4c11",
   "metadata": {},
   "outputs": [
    {
     "data": {
      "text/plain": [
       "count     10000.000000\n",
       "mean     100090.239881\n",
       "std       57510.492818\n",
       "min          11.580000\n",
       "25%       51002.110000\n",
       "50%      100193.915000\n",
       "75%      149388.247500\n",
       "max      199992.480000\n",
       "Name: SalarioEstimado, dtype: float64"
      ]
     },
     "execution_count": 35,
     "metadata": {},
     "output_type": "execute_result"
    }
   ],
   "source": [
    "# Resumo dos dados da variável Salario Estimado\n",
    "data['SalarioEstimado'].describe()"
   ]
  },
  {
   "cell_type": "code",
   "execution_count": 234,
   "id": "5897a93f",
   "metadata": {},
   "outputs": [
    {
     "data": {
      "image/png": "[encoded data removed]",
      "text/plain": [
       "<Figure size 1152x432 with 1 Axes>"
      ]
     },
     "metadata": {},
     "output_type": "display_data"
    }
   ],
   "source": [
    "# Histograma para visualizar a distribuição da Pontuação de Crédito\n",
    "plt.figure(figsize=(16, 6))\n",
    "sns.histplot(data['SalarioEstimado'], bins=30, kde=True)\n",
    "plt.title('Distribuição da Pontuação de Crédito')\n",
    "plt.xlabel('Pontuação de Crédito')\n",
    "plt.ylabel('Frequência')\n",
    "plt.show()"
   ]
  },
  {
   "cell_type": "code",
   "execution_count": 235,
   "id": "0900d2a0",
   "metadata": {},
   "outputs": [
    {
     "data": {
      "image/png": "[encoded data removed]",
      "text/plain": [
       "<Figure size 1152x144 with 1 Axes>"
      ]
     },
     "metadata": {},
     "output_type": "display_data"
    }
   ],
   "source": [
    "# Criando um Boxplot para a variável \"Pontuação de Crédito\"\n",
    "sns.set(style=\"whitegrid\")\n",
    "\n",
    "plt.figure(figsize=(16, 2))\n",
    "sns.boxplot(x='SalarioEstimado', data=data)\n",
    "plt.title('Box Plot da Pontuação de Crédito')\n",
    "plt.xlabel('Pontuação de Crédito')\n",
    "plt.show()"
   ]
  },
  {
   "cell_type": "code",
   "execution_count": 254,
   "id": "3fdb235e",
   "metadata": {},
   "outputs": [
    {
     "data": {
      "text/plain": [
       "60000 - 79999      1027\n",
       "100000 - 119999    1027\n",
       "160000 - 179999    1009\n",
       "120000 - 139999    1007\n",
       "40000 - 59999      1006\n",
       "80000 - 99999      1002\n",
       "0 - 19999           986\n",
       "180000 - 199999     985\n",
       "140000 - 159999     982\n",
       "20000 - 39999       969\n",
       "Name: Salario_grupo, dtype: int64"
      ]
     },
     "execution_count": 254,
     "metadata": {},
     "output_type": "execute_result"
    }
   ],
   "source": [
    "# Definir os rótulos dos grupos\n",
    "labels = [\"{0} - {1}\".format(i, i + 19999) for i in range(0, 200000, 20000)]\n",
    "\n",
    "# Criar uma nova coluna \"Salario_grupo\" com base nos intervalos\n",
    "data['Salario_grupo'] = pd.cut(data.SalarioEstimado,\n",
    "                                bins=range(0, 200001, 20000),\n",
    "                                right=False,\n",
    "                                labels=labels)\n",
    "\n",
    "# Verificando os dados da nova coluna\n",
    "data['Salario_grupo'].value_counts()\n"
   ]
  },
  {
   "cell_type": "code",
   "execution_count": 255,
   "id": "de152029",
   "metadata": {},
   "outputs": [
    {
     "name": "stdout",
     "output_type": "stream",
     "text": [
      "     Salario_grupo  Não Churn  Churn  Total  Freq Não Churn  Freq Churn\n",
      "0        0 - 19999        788    198    986       79.918864   20.081136\n",
      "1    20000 - 39999        773    196    969       79.772962   20.227038\n",
      "2    40000 - 59999        815    191   1006       81.013917   18.986083\n",
      "3    60000 - 79999        815    212   1027       79.357352   20.642648\n",
      "4    80000 - 99999        806    196   1002       80.439122   19.560878\n",
      "5  100000 - 119999        816    211   1027       79.454722   20.545278\n",
      "6  120000 - 139999        811    196   1007       80.536246   19.463754\n",
      "7  140000 - 159999        776    206    982       79.022403   20.977597\n",
      "8  160000 - 179999        784    225   1009       77.700694   22.299306\n",
      "9  180000 - 199999        778    207    985       78.984772   21.015228\n"
     ]
    }
   ],
   "source": [
    "# Agrupar os dados por PontuacaoCredito_grupo e contar as ocorrências de Churn e Não Churn\n",
    "grouped_Salario = data.groupby('Salario_grupo')['Churn'].value_counts().unstack(fill_value=0)\n",
    "\n",
    "# Calcular percentuais de Churn e Não Churn\n",
    "grouped_Salario['Total'] = grouped_Salario[0] + grouped_Salario[1]\n",
    "grouped_Salario['Não_Churn_Percent'] = (grouped_Salario[0] / grouped_Salario['Total']) * 100\n",
    "grouped_Salario['Churn_Percent'] = (grouped_Salario[1] / grouped_Salario['Total']) * 100\n",
    "\n",
    "# Renomear as colunas\n",
    "grouped_Salario.columns = ['Não Churn', 'Churn', 'Total', 'Freq Não Churn', 'Freq Churn']\n",
    "\n",
    "# Resetar o índice para ter 'PontuacaoCredito_grupo' como uma coluna\n",
    "grouped_Salario.reset_index(inplace=True)\n",
    "\n",
    "# Exibir a tabela\n",
    "print(grouped_Salario)"
   ]
  },
  {
   "cell_type": "code",
   "execution_count": 259,
   "id": "edc9f04e",
   "metadata": {},
   "outputs": [
    {
     "data": {
      "image/png": "[encoded data removed]",
      "text/plain": [
       "<Figure size 1152x432 with 1 Axes>"
      ]
     },
     "metadata": {},
     "output_type": "display_data"
    }
   ],
   "source": [
    "# Agrupar os dados por PontuacaoCredito_grupo e contar as ocorrências de Churn e Não Churn\n",
    "grouped_Salario = data.groupby('Salario_grupo')['Churn'].value_counts().unstack(fill_value=0)\n",
    "\n",
    "# Definir os rótulos das categorias e a largura das barras\n",
    "categories = grouped_Salario.index\n",
    "x = np.arange(len(categories))\n",
    "width = 0.4\n",
    "\n",
    "# Criar o gráfico de barras agrupadas\n",
    "fig, ax = plt.subplots(figsize = (16, 6))\n",
    "for i, (churn_label, color) in enumerate(zip([0, 1], ['darkblue', 'tomato'])):\n",
    "    values = grouped_Salario[churn_label].values\n",
    "    ax.bar(x + i * width, values, width, label=churn_label, color=color)\n",
    "\n",
    "# Personalizar o gráfico\n",
    "ax.set_xlabel('Salário Estimado')\n",
    "ax.set_ylabel('Quantidade')\n",
    "ax.set_title('Churn por Pontuação de Crédito')\n",
    "ax.set_xticks(x + width / 2)\n",
    "ax.set_xticklabels(categories, rotation=25)\n",
    "\n",
    "# Adicionar legenda\n",
    "legend_labels = ['Não Churn', 'Churn']\n",
    "ax.legend((legend_labels), title='Churn')\n",
    "\n",
    "plt.tight_layout()\n",
    "plt.show()"
   ]
  },
  {
   "cell_type": "code",
   "execution_count": 270,
   "id": "8f70d117",
   "metadata": {},
   "outputs": [
    {
     "data": {
      "image/png": "[encoded data removed]",
      "text/plain": [
       "<Figure size 1152x360 with 2 Axes>"
      ]
     },
     "metadata": {},
     "output_type": "display_data"
    }
   ],
   "source": [
    "# Box plot da Pontuação de Crédito para clientes Churn e não-Churn\n",
    "sns.set(style=\"whitegrid\")\n",
    "\n",
    "# Definindo os limites para equalizações dos boxplot\n",
    "# Definindo os limites para equalizações dos boxplot\n",
    "lim_min_salario = -1000\n",
    "lim_max_salario = math.ceil(max(data['SalarioEstimado']) / 10000) * 10000\n",
    "\n",
    "fig, axes = plt.subplots(nrows=2, ncols=1, figsize=(16, 5))\n",
    "\n",
    "# Box plot 1 (Clientes Churn)\n",
    "sns.boxplot(ax=axes[0], x='SalarioEstimado', data=data[data['Churn'] == 1])\n",
    "axes[0].set_title('Clientes Churn')\n",
    "\n",
    "# Definir limites iguais para os eixos x\n",
    "axes[0].set_xlim(lim_min_salario, lim_max_salario)\n",
    "\n",
    "# Box plot 2 (Clientes Não Churn)\n",
    "sns.boxplot(ax=axes[1], x='SalarioEstimado', data=data[data['Churn'] == 0])\n",
    "axes[1].set_title('Clientes Não Churn')\n",
    "\n",
    "# Definir limites iguais para os eixos x\n",
    "axes[1].set_xlim(lim_min_salario, lim_max_salario)\n",
    "\n",
    "# Ajustar o layout\n",
    "plt.tight_layout()\n",
    "\n",
    "# Exibir o gráfico\n",
    "plt.show()"
   ]
  },
  {
   "cell_type": "markdown",
   "id": "fc272ccf",
   "metadata": {},
   "source": [
    "### 3.1.11 Reclamações\n"
   ]
  },
  {
   "cell_type": "markdown",
   "id": "0542404e",
   "metadata": {},
   "source": [
    "* Estatísticas descritivas da variável"
   ]
  },
  {
   "cell_type": "code",
   "execution_count": 36,
   "id": "ab4e89db",
   "metadata": {},
   "outputs": [
    {
     "data": {
      "text/plain": [
       "count    10000.000000\n",
       "mean         0.204400\n",
       "std          0.403283\n",
       "min          0.000000\n",
       "25%          0.000000\n",
       "50%          0.000000\n",
       "75%          0.000000\n",
       "max          1.000000\n",
       "Name: Reclamacoes, dtype: float64"
      ]
     },
     "execution_count": 36,
     "metadata": {},
     "output_type": "execute_result"
    }
   ],
   "source": [
    "# Resumo dos dados da variável Reclamações\n",
    "data['Reclamacoes'].describe()"
   ]
  },
  {
   "cell_type": "code",
   "execution_count": null,
   "id": "893b8d97",
   "metadata": {},
   "outputs": [],
   "source": []
  },
  {
   "cell_type": "code",
   "execution_count": null,
   "id": "78901e0e",
   "metadata": {},
   "outputs": [],
   "source": []
  },
  {
   "cell_type": "code",
   "execution_count": null,
   "id": "f200c697",
   "metadata": {},
   "outputs": [],
   "source": []
  },
  {
   "cell_type": "code",
   "execution_count": null,
   "id": "15eb0f2e",
   "metadata": {},
   "outputs": [],
   "source": []
  },
  {
   "cell_type": "code",
   "execution_count": null,
   "id": "020b6953",
   "metadata": {},
   "outputs": [],
   "source": []
  },
  {
   "cell_type": "code",
   "execution_count": null,
   "id": "9c3d9426",
   "metadata": {},
   "outputs": [],
   "source": []
  },
  {
   "cell_type": "markdown",
   "id": "be59b0ec",
   "metadata": {},
   "source": [
    "### 3.1.12 Índice de Satisfação\n"
   ]
  },
  {
   "cell_type": "markdown",
   "id": "6147ff25",
   "metadata": {},
   "source": [
    "* Estatísticas descritivas da variável"
   ]
  },
  {
   "cell_type": "code",
   "execution_count": 37,
   "id": "c702dfa9",
   "metadata": {},
   "outputs": [
    {
     "data": {
      "text/plain": [
       "count    10000.000000\n",
       "mean         3.013800\n",
       "std          1.405919\n",
       "min          1.000000\n",
       "25%          2.000000\n",
       "50%          3.000000\n",
       "75%          4.000000\n",
       "max          5.000000\n",
       "Name: IndiceSatisfacao, dtype: float64"
      ]
     },
     "execution_count": 37,
     "metadata": {},
     "output_type": "execute_result"
    }
   ],
   "source": [
    "# Resumo dos dados da variável Indice de Satisfação\n",
    "data['IndiceSatisfacao'].describe()"
   ]
  },
  {
   "cell_type": "code",
   "execution_count": null,
   "id": "89fa46ef",
   "metadata": {},
   "outputs": [],
   "source": []
  },
  {
   "cell_type": "code",
   "execution_count": null,
   "id": "38db929e",
   "metadata": {},
   "outputs": [],
   "source": []
  },
  {
   "cell_type": "code",
   "execution_count": null,
   "id": "71c34ac8",
   "metadata": {},
   "outputs": [],
   "source": []
  },
  {
   "cell_type": "code",
   "execution_count": null,
   "id": "aa8ae2a2",
   "metadata": {},
   "outputs": [],
   "source": []
  },
  {
   "cell_type": "code",
   "execution_count": null,
   "id": "2a82f2aa",
   "metadata": {},
   "outputs": [],
   "source": []
  },
  {
   "cell_type": "code",
   "execution_count": null,
   "id": "cac96a50",
   "metadata": {},
   "outputs": [],
   "source": []
  },
  {
   "cell_type": "markdown",
   "id": "ce1f4544",
   "metadata": {},
   "source": [
    "### 3.1.13 Tipo de Cartão\n"
   ]
  },
  {
   "cell_type": "markdown",
   "id": "5895751e",
   "metadata": {},
   "source": [
    "* Estatísticas descritivas da variável"
   ]
  },
  {
   "cell_type": "code",
   "execution_count": 38,
   "id": "aa2af19c",
   "metadata": {},
   "outputs": [
    {
     "data": {
      "text/plain": [
       "count       10000\n",
       "unique          4\n",
       "top       DIAMOND\n",
       "freq         2507\n",
       "Name: TipoCartao, dtype: object"
      ]
     },
     "execution_count": 38,
     "metadata": {},
     "output_type": "execute_result"
    }
   ],
   "source": [
    "# Resumo dos dados da variável Tipos de Cartão\n",
    "data['TipoCartao'].describe()"
   ]
  },
  {
   "cell_type": "code",
   "execution_count": null,
   "id": "0c30dbd4",
   "metadata": {},
   "outputs": [],
   "source": []
  },
  {
   "cell_type": "code",
   "execution_count": null,
   "id": "11835953",
   "metadata": {},
   "outputs": [],
   "source": []
  },
  {
   "cell_type": "code",
   "execution_count": null,
   "id": "3894d9ea",
   "metadata": {},
   "outputs": [],
   "source": []
  },
  {
   "cell_type": "code",
   "execution_count": null,
   "id": "2431efed",
   "metadata": {},
   "outputs": [],
   "source": []
  },
  {
   "cell_type": "code",
   "execution_count": null,
   "id": "598af9f5",
   "metadata": {},
   "outputs": [],
   "source": []
  },
  {
   "cell_type": "code",
   "execution_count": null,
   "id": "d583ffab",
   "metadata": {},
   "outputs": [],
   "source": []
  },
  {
   "cell_type": "markdown",
   "id": "9ee54f9e",
   "metadata": {},
   "source": [
    "### 3.1.14 Pontos Acumulados"
   ]
  },
  {
   "cell_type": "markdown",
   "id": "c78970b5",
   "metadata": {},
   "source": [
    "* Estatísticas descritivas da variável"
   ]
  },
  {
   "cell_type": "code",
   "execution_count": 39,
   "id": "3d5b23c2",
   "metadata": {},
   "outputs": [
    {
     "data": {
      "text/plain": [
       "count    10000.000000\n",
       "mean       606.515100\n",
       "std        225.924839\n",
       "min        119.000000\n",
       "25%        410.000000\n",
       "50%        605.000000\n",
       "75%        801.000000\n",
       "max       1000.000000\n",
       "Name: PontosAcumulados, dtype: float64"
      ]
     },
     "execution_count": 39,
     "metadata": {},
     "output_type": "execute_result"
    }
   ],
   "source": [
    "# Resumo dos dados da variável PontosAcumulados\n",
    "data['PontosAcumulados'].describe()"
   ]
  },
  {
   "cell_type": "code",
   "execution_count": null,
   "id": "e162ac2d",
   "metadata": {},
   "outputs": [],
   "source": []
  },
  {
   "cell_type": "code",
   "execution_count": null,
   "id": "0c34fcc2",
   "metadata": {},
   "outputs": [],
   "source": []
  },
  {
   "cell_type": "code",
   "execution_count": null,
   "id": "b9c4b1f3",
   "metadata": {},
   "outputs": [],
   "source": []
  },
  {
   "cell_type": "code",
   "execution_count": null,
   "id": "61720905",
   "metadata": {},
   "outputs": [],
   "source": []
  },
  {
   "cell_type": "code",
   "execution_count": null,
   "id": "010bcdbd",
   "metadata": {},
   "outputs": [],
   "source": []
  },
  {
   "cell_type": "code",
   "execution_count": null,
   "id": "66c45eb0",
   "metadata": {},
   "outputs": [],
   "source": []
  },
  {
   "cell_type": "code",
   "execution_count": null,
   "id": "50d8fd61",
   "metadata": {},
   "outputs": [],
   "source": []
  },
  {
   "cell_type": "markdown",
   "id": "497ca8ab",
   "metadata": {},
   "source": [
    "Capítulo 3: Exploração dos Dados\n",
    "Neste capítulo, você pode se concentrar em explorar e entender os dados em detalhes. Aqui estão algumas das atividades que podem ser incluídas:\n",
    "\n",
    "Análise Descritiva: Calcule estatísticas descritivas, como média, mediana, desvio padrão, etc., para variáveis numéricas.\n",
    "Visualização de Dados: Crie gráficos e visualizações para entender a distribuição e relacionamentos entre as variáveis.\n",
    "Análise de Correlação: Calcule a correlação entre variáveis para identificar relações.\n",
    "Análise de Variáveis Categóricas: Explore variáveis categóricas por meio de tabelas de frequência e gráficos.\n",
    "Análise de Dados Temporais (se aplicável): Se houver dados temporais, faça análises específicas para entender tendências ao longo do tempo.\n",
    "Capítulo 4: Tratamento dos Dados\n",
    "Neste capítulo, você pode se concentrar em preparar os dados para a modelagem. Isso pode incluir:\n",
    "\n",
    "Tratamento de Outliers: Decida como lidar com valores extremos, se aplicável.\n",
    "Codificação de Variáveis Categóricas: Escolha a abordagem apropriada para codificar variáveis categóricas.\n",
    "Normalização ou Padronização: Realize essas etapas, se necessário.\n",
    "Engenharia de Recursos: Crie novas características com base em insights.\n",
    "Tratamento de Dados Temporais (se aplicável): Realize etapas específicas para dados temporais, como agregações de tempo.\n",
    "Documentação: Documente todas as transformações de dados realizadas."
   ]
  }
 ],
 "metadata": {
  "kernelspec": {
   "display_name": "Python 3 (ipykernel)",
   "language": "python",
   "name": "python3"
  },
  "language_info": {
   "codemirror_mode": {
    "name": "ipython",
    "version": 3
   },
   "file_extension": ".py",
   "mimetype": "text/x-python",
   "name": "python",
   "nbconvert_exporter": "python",
   "pygments_lexer": "ipython3",
   "version": "3.9.12"
  }
 },
 "nbformat": 4,
 "nbformat_minor": 5
}
